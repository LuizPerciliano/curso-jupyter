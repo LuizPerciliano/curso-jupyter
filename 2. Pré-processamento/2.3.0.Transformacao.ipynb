{
 "cells": [
  {
   "cell_type": "code",
   "execution_count": 1,
   "metadata": {},
   "outputs": [],
   "source": [
    "# Importando os pacotes necessários\n",
    "import pandas as pd\n",
    "import numpy as np\n",
    "\n",
    "from sklearn.linear_model import LogisticRegression\n",
    "from sklearn.metrics import accuracy_score\n",
    "from sklearn.utils import resample"
   ]
  },
  {
   "cell_type": "code",
   "execution_count": 2,
   "metadata": {},
   "outputs": [],
   "source": [
    "# Comandos auxiliares\n",
    "from IPython.core.display import display, HTML\n",
    "pd.set_option('display.max_columns', 10)\n",
    "pd.options.mode.chained_assignment = None  # default='warn'\n",
    "\n",
    "def display_side_by_side(dfs: list, captions: list):\n",
    "    \"\"\"Display tables side by side to save vertical space\n",
    "    Input:\n",
    "        dfs: list of pandas.DataFrame\n",
    "        captions: list of table captions\n",
    "    \"\"\"\n",
    "    output = \"\"\n",
    "    combined = dict(zip(captions, dfs))\n",
    "    for caption, df in combined.items():\n",
    "        output += df.style.set_table_attributes(\n",
    "            \"style='display:inline'\").set_caption(caption)._repr_html_()\n",
    "        output += \"\\xa0\\xa0\\xa0\"\n",
    "    display(HTML(output))"
   ]
  },
  {
   "cell_type": "markdown",
   "metadata": {},
   "source": [
    "# Transformação de Dados\n",
    "---\n",
    "\n",
    "Em geral, após um processo de <ins>**Integração de dados**</ins>, colunas com diferentes tipos de dados podem ser geradas. \n",
    "\n",
    "Na <ins>**Transformação de dados**</ins>, o principal objetivo é exatamente **transformar** esses dados de diferentes formatos em um formato suportado pelo processo de pesquisa, e.g., modelos e algoritmos. \n",
    "\n",
    "A <ins>**Transformação de dados**</ins> possui algumas etapas em comum com a <ins>**Limpeza de dados**</ins>, incluindo técnicas de remoção de ruído e discretização de dados. \n",
    "\n",
    "Portanto, nesta etapa, nós vamos focar nas técnicas que ainda não foram abordadas até aqui."
   ]
  },
  {
   "cell_type": "markdown",
   "metadata": {},
   "source": [
    "## Dados não padronizados\n",
    "\n",
    "Dados coletados de diferentes fontes podem reunir dados **heterogêneos**, **não padronizados** e em **diferentes escalas** que muitas vezes necessitam um pré-processamento, i.e., uma etapa de escalonamento. \n",
    "\n",
    "O escalonamento de tais dados não é uma etapa obrigatória, mas uma boa prática! \n",
    "\n",
    "> **Mas... Por que precisamos dimensionar as variáveis em nosso conjunto de dados?** 🤔\n",
    "\n",
    "> *Muitos algoritmos de Aprendizado de Máquina apresentam um melhor desempenho quando as variáveis numéricas de entrada são padronizadas.*\n",
    "\n",
    "Isso inclui algoritmos que usam uma soma ponderada da entrada como, por exemplo, a regressão linhear e algoritmos que usam medidas de distância, como os algoritmos K-means e K-NN."
   ]
  },
  {
   "cell_type": "markdown",
   "metadata": {},
   "source": [
    "Existem algumas técnicas de escalonamento que **transformam** características para uma escala, magnitude ou intervalo. \n",
    "\n",
    "Para descrever e exemplicar cada uma delas, utilizaremos o conjunto de atributos numéricos que descrevem as músicas do Spotify, ou seja, a tabela `Tracks` do nosso conjunto de dados. "
   ]
  },
  {
   "cell_type": "code",
   "execution_count": 3,
   "metadata": {},
   "outputs": [
    {
     "data": {
      "text/html": [
       "<div>\n",
       "<style scoped>\n",
       "    .dataframe tbody tr th:only-of-type {\n",
       "        vertical-align: middle;\n",
       "    }\n",
       "\n",
       "    .dataframe tbody tr th {\n",
       "        vertical-align: top;\n",
       "    }\n",
       "\n",
       "    .dataframe thead th {\n",
       "        text-align: right;\n",
       "    }\n",
       "</style>\n",
       "<table border=\"1\" class=\"dataframe\">\n",
       "  <thead>\n",
       "    <tr style=\"text-align: right;\">\n",
       "      <th></th>\n",
       "      <th>song_id</th>\n",
       "      <th>song_name</th>\n",
       "      <th>artist_id</th>\n",
       "      <th>artist_name</th>\n",
       "      <th>popularity</th>\n",
       "      <th>...</th>\n",
       "      <th>liveness</th>\n",
       "      <th>loudness</th>\n",
       "      <th>speechiness</th>\n",
       "      <th>valence</th>\n",
       "      <th>tempo</th>\n",
       "    </tr>\n",
       "  </thead>\n",
       "  <tbody>\n",
       "    <tr>\n",
       "      <th>0</th>\n",
       "      <td>2rRJrJEo19S2J82BDsQ3F7</td>\n",
       "      <td>Falling</td>\n",
       "      <td>['7uaIm6Pw7xplS8Dy06V6pT']</td>\n",
       "      <td>['Trevor Daniel']</td>\n",
       "      <td>77</td>\n",
       "      <td>...</td>\n",
       "      <td>0.0887</td>\n",
       "      <td>-8.756</td>\n",
       "      <td>0.0364</td>\n",
       "      <td>0.236</td>\n",
       "      <td>127.087</td>\n",
       "    </tr>\n",
       "    <tr>\n",
       "      <th>1</th>\n",
       "      <td>3BYIzNZ3t9lRQCACXSMLrT</td>\n",
       "      <td>Venetia</td>\n",
       "      <td>['4O15NlyKLIASxsJ0PrXPfz']</td>\n",
       "      <td>['Lil Uzi Vert']</td>\n",
       "      <td>66</td>\n",
       "      <td>...</td>\n",
       "      <td>0.1480</td>\n",
       "      <td>-4.139</td>\n",
       "      <td>0.1750</td>\n",
       "      <td>0.562</td>\n",
       "      <td>142.933</td>\n",
       "    </tr>\n",
       "    <tr>\n",
       "      <th>2</th>\n",
       "      <td>1g3J9W88hTG173ySZR6E9S</td>\n",
       "      <td>Tilidin Weg</td>\n",
       "      <td>['1aS5tqEs9ci5P9KD9tZWa6']</td>\n",
       "      <td>['Bonez MC']</td>\n",
       "      <td>13</td>\n",
       "      <td>...</td>\n",
       "      <td>0.0838</td>\n",
       "      <td>-8.544</td>\n",
       "      <td>0.2330</td>\n",
       "      <td>0.171</td>\n",
       "      <td>109.090</td>\n",
       "    </tr>\n",
       "  </tbody>\n",
       "</table>\n",
       "<p>3 rows × 24 columns</p>\n",
       "</div>"
      ],
      "text/plain": [
       "                  song_id    song_name                   artist_id  \\\n",
       "0  2rRJrJEo19S2J82BDsQ3F7      Falling  ['7uaIm6Pw7xplS8Dy06V6pT']   \n",
       "1  3BYIzNZ3t9lRQCACXSMLrT      Venetia  ['4O15NlyKLIASxsJ0PrXPfz']   \n",
       "2  1g3J9W88hTG173ySZR6E9S  Tilidin Weg  ['1aS5tqEs9ci5P9KD9tZWa6']   \n",
       "\n",
       "         artist_name  popularity  ...  liveness loudness  speechiness  \\\n",
       "0  ['Trevor Daniel']          77  ...    0.0887   -8.756       0.0364   \n",
       "1   ['Lil Uzi Vert']          66  ...    0.1480   -4.139       0.1750   \n",
       "2       ['Bonez MC']          13  ...    0.0838   -8.544       0.2330   \n",
       "\n",
       "   valence    tempo  \n",
       "0    0.236  127.087  \n",
       "1    0.562  142.933  \n",
       "2    0.171  109.090  \n",
       "\n",
       "[3 rows x 24 columns]"
      ]
     },
     "execution_count": 3,
     "metadata": {},
     "output_type": "execute_result"
    }
   ],
   "source": [
    "# Lendo os dados\n",
    "data = pd.read_table('../dataset/spotify_hits_dataset_complete.tsv', encoding='utf-8')\n",
    "data.head(3)"
   ]
  },
  {
   "cell_type": "code",
   "execution_count": 4,
   "metadata": {},
   "outputs": [],
   "source": [
    "# Selecionando apenas as variáveis numéricas\n",
    "df = data.select_dtypes(include=['number'])\n",
    "# print(df.columns.values) # imprime as colunas restantes"
   ]
  },
  {
   "cell_type": "markdown",
   "metadata": {},
   "source": [
    "Depois de selecionar as variáveis numéricas da nossa tabela, ficamos com as seguintes informações:\n",
    "\n",
    "* `popularity`: *score* de popularidade da track (o valor varia entre 0 e 100, sendo 100 o mais popular)\n",
    "* `track_number`: número da track no álbum que ela pertence\n",
    "* `num_artists`: número total de intérpretes da track\n",
    "* `num_available_markets`: número total de países nos quais a track pode ser reproduzida\n",
    "* `duration_ms`: duração da track em milissegundos\n",
    "* [`key` - `tempo`]: características acústicas da track\n",
    "\n",
    "Utilizando esses atributos, nós iremos explorar dois tipos de escalonamento: *Normalização* e *Padronização*."
   ]
  },
  {
   "cell_type": "markdown",
   "metadata": {},
   "source": [
    "### NORMALIZAÇÃO\n",
    "\n",
    "A *Normalização* é uma técnica de escalonamento em que os valores são **deslocados** e **redimensionados** para que fiquem entre 0 e 1. Essa técnica também é conhecida como nomarlização *Min-Max* e é usada para **transformar** dados em uma <ins>escala semelhante</ins>.\n",
    "\n",
    "A fórmula da *Normalização* é dada por:\n",
    "\n",
    "$$X' = \\frac{X - X_{min}}{X_{max} - X_{min}},$$\n",
    "\n",
    "onde $X_{max}$ e $X_{min}$ são os valores máximo e mínimo do atributo, respectivamente.\n",
    "\n",
    "**RESUMINDO**\n",
    "* O valor mínimo da coluna será transformado em 0\n",
    "* O valor máximo da coluna será transformado em 1\n",
    "* Os valores que estiverem entre o valor mínimo e máximo, estarão entre o intervalo de 0 a 1\n",
    "\n",
    "#### EXEMPLO\n",
    "No exemplo a seguir, nós iremos normalizar todas as colunas numéricas da tabela `Tracks`.\n",
    "\n",
    "Isto é, para cada atributo (i.e., coluna), nós aplicaremos a fórmula da *Normalização Min-Max*. \n",
    "\n",
    "Para isso, nós utilizaremos os métodos `min()` e `max()` do *pandas*:"
   ]
  },
  {
   "cell_type": "code",
   "execution_count": 5,
   "metadata": {
    "cell_style": "center"
   },
   "outputs": [
    {
     "data": {
      "text/html": [
       "<style  type=\"text/css\" >\n",
       "</style><table id=\"T_e0faf649_1a62_11ec_b62a_a84138edd5dc\" style='display:inline'><caption>Original</caption><thead>    <tr>        <th class=\"blank level0\" ></th>        <th class=\"col_heading level0 col0\" >popularity</th>        <th class=\"col_heading level0 col1\" >track_number</th>        <th class=\"col_heading level0 col2\" >num_artists</th>        <th class=\"col_heading level0 col3\" >num_available_markets</th>        <th class=\"col_heading level0 col4\" >duration_ms</th>        <th class=\"col_heading level0 col5\" >key</th>        <th class=\"col_heading level0 col6\" >mode</th>        <th class=\"col_heading level0 col7\" >time_signature</th>        <th class=\"col_heading level0 col8\" >acousticness</th>        <th class=\"col_heading level0 col9\" >danceability</th>        <th class=\"col_heading level0 col10\" >energy</th>        <th class=\"col_heading level0 col11\" >instrumentalness</th>        <th class=\"col_heading level0 col12\" >liveness</th>        <th class=\"col_heading level0 col13\" >loudness</th>        <th class=\"col_heading level0 col14\" >speechiness</th>        <th class=\"col_heading level0 col15\" >valence</th>        <th class=\"col_heading level0 col16\" >tempo</th>    </tr></thead><tbody>\n",
       "                <tr>\n",
       "                        <th id=\"T_e0faf649_1a62_11ec_b62a_a84138edd5dclevel0_row0\" class=\"row_heading level0 row0\" >0</th>\n",
       "                        <td id=\"T_e0faf649_1a62_11ec_b62a_a84138edd5dcrow0_col0\" class=\"data row0 col0\" >77</td>\n",
       "                        <td id=\"T_e0faf649_1a62_11ec_b62a_a84138edd5dcrow0_col1\" class=\"data row0 col1\" >10</td>\n",
       "                        <td id=\"T_e0faf649_1a62_11ec_b62a_a84138edd5dcrow0_col2\" class=\"data row0 col2\" >1</td>\n",
       "                        <td id=\"T_e0faf649_1a62_11ec_b62a_a84138edd5dcrow0_col3\" class=\"data row0 col3\" >177</td>\n",
       "                        <td id=\"T_e0faf649_1a62_11ec_b62a_a84138edd5dcrow0_col4\" class=\"data row0 col4\" >159381</td>\n",
       "                        <td id=\"T_e0faf649_1a62_11ec_b62a_a84138edd5dcrow0_col5\" class=\"data row0 col5\" >10</td>\n",
       "                        <td id=\"T_e0faf649_1a62_11ec_b62a_a84138edd5dcrow0_col6\" class=\"data row0 col6\" >0</td>\n",
       "                        <td id=\"T_e0faf649_1a62_11ec_b62a_a84138edd5dcrow0_col7\" class=\"data row0 col7\" >4</td>\n",
       "                        <td id=\"T_e0faf649_1a62_11ec_b62a_a84138edd5dcrow0_col8\" class=\"data row0 col8\" >0.123000</td>\n",
       "                        <td id=\"T_e0faf649_1a62_11ec_b62a_a84138edd5dcrow0_col9\" class=\"data row0 col9\" >0.784000</td>\n",
       "                        <td id=\"T_e0faf649_1a62_11ec_b62a_a84138edd5dcrow0_col10\" class=\"data row0 col10\" >0.430000</td>\n",
       "                        <td id=\"T_e0faf649_1a62_11ec_b62a_a84138edd5dcrow0_col11\" class=\"data row0 col11\" >0.000000</td>\n",
       "                        <td id=\"T_e0faf649_1a62_11ec_b62a_a84138edd5dcrow0_col12\" class=\"data row0 col12\" >0.088700</td>\n",
       "                        <td id=\"T_e0faf649_1a62_11ec_b62a_a84138edd5dcrow0_col13\" class=\"data row0 col13\" >-8.756000</td>\n",
       "                        <td id=\"T_e0faf649_1a62_11ec_b62a_a84138edd5dcrow0_col14\" class=\"data row0 col14\" >0.036400</td>\n",
       "                        <td id=\"T_e0faf649_1a62_11ec_b62a_a84138edd5dcrow0_col15\" class=\"data row0 col15\" >0.236000</td>\n",
       "                        <td id=\"T_e0faf649_1a62_11ec_b62a_a84138edd5dcrow0_col16\" class=\"data row0 col16\" >127.087000</td>\n",
       "            </tr>\n",
       "            <tr>\n",
       "                        <th id=\"T_e0faf649_1a62_11ec_b62a_a84138edd5dclevel0_row1\" class=\"row_heading level0 row1\" >1</th>\n",
       "                        <td id=\"T_e0faf649_1a62_11ec_b62a_a84138edd5dcrow1_col0\" class=\"data row1 col0\" >66</td>\n",
       "                        <td id=\"T_e0faf649_1a62_11ec_b62a_a84138edd5dcrow1_col1\" class=\"data row1 col1\" >14</td>\n",
       "                        <td id=\"T_e0faf649_1a62_11ec_b62a_a84138edd5dcrow1_col2\" class=\"data row1 col2\" >1</td>\n",
       "                        <td id=\"T_e0faf649_1a62_11ec_b62a_a84138edd5dcrow1_col3\" class=\"data row1 col3\" >178</td>\n",
       "                        <td id=\"T_e0faf649_1a62_11ec_b62a_a84138edd5dcrow1_col4\" class=\"data row1 col4\" >188800</td>\n",
       "                        <td id=\"T_e0faf649_1a62_11ec_b62a_a84138edd5dcrow1_col5\" class=\"data row1 col5\" >9</td>\n",
       "                        <td id=\"T_e0faf649_1a62_11ec_b62a_a84138edd5dcrow1_col6\" class=\"data row1 col6\" >1</td>\n",
       "                        <td id=\"T_e0faf649_1a62_11ec_b62a_a84138edd5dcrow1_col7\" class=\"data row1 col7\" >4</td>\n",
       "                        <td id=\"T_e0faf649_1a62_11ec_b62a_a84138edd5dcrow1_col8\" class=\"data row1 col8\" >0.162000</td>\n",
       "                        <td id=\"T_e0faf649_1a62_11ec_b62a_a84138edd5dcrow1_col9\" class=\"data row1 col9\" >0.775000</td>\n",
       "                        <td id=\"T_e0faf649_1a62_11ec_b62a_a84138edd5dcrow1_col10\" class=\"data row1 col10\" >0.757000</td>\n",
       "                        <td id=\"T_e0faf649_1a62_11ec_b62a_a84138edd5dcrow1_col11\" class=\"data row1 col11\" >0.000000</td>\n",
       "                        <td id=\"T_e0faf649_1a62_11ec_b62a_a84138edd5dcrow1_col12\" class=\"data row1 col12\" >0.148000</td>\n",
       "                        <td id=\"T_e0faf649_1a62_11ec_b62a_a84138edd5dcrow1_col13\" class=\"data row1 col13\" >-4.139000</td>\n",
       "                        <td id=\"T_e0faf649_1a62_11ec_b62a_a84138edd5dcrow1_col14\" class=\"data row1 col14\" >0.175000</td>\n",
       "                        <td id=\"T_e0faf649_1a62_11ec_b62a_a84138edd5dcrow1_col15\" class=\"data row1 col15\" >0.562000</td>\n",
       "                        <td id=\"T_e0faf649_1a62_11ec_b62a_a84138edd5dcrow1_col16\" class=\"data row1 col16\" >142.933000</td>\n",
       "            </tr>\n",
       "            <tr>\n",
       "                        <th id=\"T_e0faf649_1a62_11ec_b62a_a84138edd5dclevel0_row2\" class=\"row_heading level0 row2\" >2</th>\n",
       "                        <td id=\"T_e0faf649_1a62_11ec_b62a_a84138edd5dcrow2_col0\" class=\"data row2 col0\" >13</td>\n",
       "                        <td id=\"T_e0faf649_1a62_11ec_b62a_a84138edd5dcrow2_col1\" class=\"data row2 col1\" >1</td>\n",
       "                        <td id=\"T_e0faf649_1a62_11ec_b62a_a84138edd5dcrow2_col2\" class=\"data row2 col2\" >1</td>\n",
       "                        <td id=\"T_e0faf649_1a62_11ec_b62a_a84138edd5dcrow2_col3\" class=\"data row2 col3\" >0</td>\n",
       "                        <td id=\"T_e0faf649_1a62_11ec_b62a_a84138edd5dcrow2_col4\" class=\"data row2 col4\" >180950</td>\n",
       "                        <td id=\"T_e0faf649_1a62_11ec_b62a_a84138edd5dcrow2_col5\" class=\"data row2 col5\" >10</td>\n",
       "                        <td id=\"T_e0faf649_1a62_11ec_b62a_a84138edd5dcrow2_col6\" class=\"data row2 col6\" >0</td>\n",
       "                        <td id=\"T_e0faf649_1a62_11ec_b62a_a84138edd5dcrow2_col7\" class=\"data row2 col7\" >4</td>\n",
       "                        <td id=\"T_e0faf649_1a62_11ec_b62a_a84138edd5dcrow2_col8\" class=\"data row2 col8\" >0.113000</td>\n",
       "                        <td id=\"T_e0faf649_1a62_11ec_b62a_a84138edd5dcrow2_col9\" class=\"data row2 col9\" >0.882000</td>\n",
       "                        <td id=\"T_e0faf649_1a62_11ec_b62a_a84138edd5dcrow2_col10\" class=\"data row2 col10\" >0.530000</td>\n",
       "                        <td id=\"T_e0faf649_1a62_11ec_b62a_a84138edd5dcrow2_col11\" class=\"data row2 col11\" >0.479000</td>\n",
       "                        <td id=\"T_e0faf649_1a62_11ec_b62a_a84138edd5dcrow2_col12\" class=\"data row2 col12\" >0.083800</td>\n",
       "                        <td id=\"T_e0faf649_1a62_11ec_b62a_a84138edd5dcrow2_col13\" class=\"data row2 col13\" >-8.544000</td>\n",
       "                        <td id=\"T_e0faf649_1a62_11ec_b62a_a84138edd5dcrow2_col14\" class=\"data row2 col14\" >0.233000</td>\n",
       "                        <td id=\"T_e0faf649_1a62_11ec_b62a_a84138edd5dcrow2_col15\" class=\"data row2 col15\" >0.171000</td>\n",
       "                        <td id=\"T_e0faf649_1a62_11ec_b62a_a84138edd5dcrow2_col16\" class=\"data row2 col16\" >109.090000</td>\n",
       "            </tr>\n",
       "    </tbody></table>   <style  type=\"text/css\" >\n",
       "</style><table id=\"T_e0fcf231_1a62_11ec_adb0_a84138edd5dc\" style='display:inline'><caption>Normalizado</caption><thead>    <tr>        <th class=\"blank level0\" ></th>        <th class=\"col_heading level0 col0\" >popularity</th>        <th class=\"col_heading level0 col1\" >track_number</th>        <th class=\"col_heading level0 col2\" >num_artists</th>        <th class=\"col_heading level0 col3\" >num_available_markets</th>        <th class=\"col_heading level0 col4\" >duration_ms</th>        <th class=\"col_heading level0 col5\" >key</th>        <th class=\"col_heading level0 col6\" >mode</th>        <th class=\"col_heading level0 col7\" >time_signature</th>        <th class=\"col_heading level0 col8\" >acousticness</th>        <th class=\"col_heading level0 col9\" >danceability</th>        <th class=\"col_heading level0 col10\" >energy</th>        <th class=\"col_heading level0 col11\" >instrumentalness</th>        <th class=\"col_heading level0 col12\" >liveness</th>        <th class=\"col_heading level0 col13\" >loudness</th>        <th class=\"col_heading level0 col14\" >speechiness</th>        <th class=\"col_heading level0 col15\" >valence</th>        <th class=\"col_heading level0 col16\" >tempo</th>    </tr></thead><tbody>\n",
       "                <tr>\n",
       "                        <th id=\"T_e0fcf231_1a62_11ec_adb0_a84138edd5dclevel0_row0\" class=\"row_heading level0 row0\" >0</th>\n",
       "                        <td id=\"T_e0fcf231_1a62_11ec_adb0_a84138edd5dcrow0_col0\" class=\"data row0 col0\" >0.793814</td>\n",
       "                        <td id=\"T_e0fcf231_1a62_11ec_adb0_a84138edd5dcrow0_col1\" class=\"data row0 col1\" >0.310345</td>\n",
       "                        <td id=\"T_e0fcf231_1a62_11ec_adb0_a84138edd5dcrow0_col2\" class=\"data row0 col2\" >0.000000</td>\n",
       "                        <td id=\"T_e0fcf231_1a62_11ec_adb0_a84138edd5dcrow0_col3\" class=\"data row0 col3\" >0.994382</td>\n",
       "                        <td id=\"T_e0fcf231_1a62_11ec_adb0_a84138edd5dcrow0_col4\" class=\"data row0 col4\" >0.284679</td>\n",
       "                        <td id=\"T_e0fcf231_1a62_11ec_adb0_a84138edd5dcrow0_col5\" class=\"data row0 col5\" >0.909091</td>\n",
       "                        <td id=\"T_e0fcf231_1a62_11ec_adb0_a84138edd5dcrow0_col6\" class=\"data row0 col6\" >0.000000</td>\n",
       "                        <td id=\"T_e0fcf231_1a62_11ec_adb0_a84138edd5dcrow0_col7\" class=\"data row0 col7\" >0.750000</td>\n",
       "                        <td id=\"T_e0fcf231_1a62_11ec_adb0_a84138edd5dcrow0_col8\" class=\"data row0 col8\" >0.123557</td>\n",
       "                        <td id=\"T_e0fcf231_1a62_11ec_adb0_a84138edd5dcrow0_col9\" class=\"data row0 col9\" >0.769231</td>\n",
       "                        <td id=\"T_e0fcf231_1a62_11ec_adb0_a84138edd5dcrow0_col10\" class=\"data row0 col10\" >0.424552</td>\n",
       "                        <td id=\"T_e0fcf231_1a62_11ec_adb0_a84138edd5dcrow0_col11\" class=\"data row0 col11\" >0.000000</td>\n",
       "                        <td id=\"T_e0fcf231_1a62_11ec_adb0_a84138edd5dcrow0_col12\" class=\"data row0 col12\" >0.073225</td>\n",
       "                        <td id=\"T_e0fcf231_1a62_11ec_adb0_a84138edd5dcrow0_col13\" class=\"data row0 col13\" >0.615183</td>\n",
       "                        <td id=\"T_e0fcf231_1a62_11ec_adb0_a84138edd5dcrow0_col14\" class=\"data row0 col14\" >0.015335</td>\n",
       "                        <td id=\"T_e0fcf231_1a62_11ec_adb0_a84138edd5dcrow0_col15\" class=\"data row0 col15\" >0.212314</td>\n",
       "                        <td id=\"T_e0fcf231_1a62_11ec_adb0_a84138edd5dcrow0_col16\" class=\"data row0 col16\" >0.506887</td>\n",
       "            </tr>\n",
       "            <tr>\n",
       "                        <th id=\"T_e0fcf231_1a62_11ec_adb0_a84138edd5dclevel0_row1\" class=\"row_heading level0 row1\" >1</th>\n",
       "                        <td id=\"T_e0fcf231_1a62_11ec_adb0_a84138edd5dcrow1_col0\" class=\"data row1 col0\" >0.680412</td>\n",
       "                        <td id=\"T_e0fcf231_1a62_11ec_adb0_a84138edd5dcrow1_col1\" class=\"data row1 col1\" >0.448276</td>\n",
       "                        <td id=\"T_e0fcf231_1a62_11ec_adb0_a84138edd5dcrow1_col2\" class=\"data row1 col2\" >0.000000</td>\n",
       "                        <td id=\"T_e0fcf231_1a62_11ec_adb0_a84138edd5dcrow1_col3\" class=\"data row1 col3\" >1.000000</td>\n",
       "                        <td id=\"T_e0fcf231_1a62_11ec_adb0_a84138edd5dcrow1_col4\" class=\"data row1 col4\" >0.349477</td>\n",
       "                        <td id=\"T_e0fcf231_1a62_11ec_adb0_a84138edd5dcrow1_col5\" class=\"data row1 col5\" >0.818182</td>\n",
       "                        <td id=\"T_e0fcf231_1a62_11ec_adb0_a84138edd5dcrow1_col6\" class=\"data row1 col6\" >1.000000</td>\n",
       "                        <td id=\"T_e0fcf231_1a62_11ec_adb0_a84138edd5dcrow1_col7\" class=\"data row1 col7\" >0.750000</td>\n",
       "                        <td id=\"T_e0fcf231_1a62_11ec_adb0_a84138edd5dcrow1_col8\" class=\"data row1 col8\" >0.162801</td>\n",
       "                        <td id=\"T_e0fcf231_1a62_11ec_adb0_a84138edd5dcrow1_col9\" class=\"data row1 col9\" >0.757692</td>\n",
       "                        <td id=\"T_e0fcf231_1a62_11ec_adb0_a84138edd5dcrow1_col10\" class=\"data row1 col10\" >0.773018</td>\n",
       "                        <td id=\"T_e0fcf231_1a62_11ec_adb0_a84138edd5dcrow1_col11\" class=\"data row1 col11\" >0.000000</td>\n",
       "                        <td id=\"T_e0fcf231_1a62_11ec_adb0_a84138edd5dcrow1_col12\" class=\"data row1 col12\" >0.136156</td>\n",
       "                        <td id=\"T_e0fcf231_1a62_11ec_adb0_a84138edd5dcrow1_col13\" class=\"data row1 col13\" >0.788266</td>\n",
       "                        <td id=\"T_e0fcf231_1a62_11ec_adb0_a84138edd5dcrow1_col14\" class=\"data row1 col14\" >0.176348</td>\n",
       "                        <td id=\"T_e0fcf231_1a62_11ec_adb0_a84138edd5dcrow1_col15\" class=\"data row1 col15\" >0.558386</td>\n",
       "                        <td id=\"T_e0fcf231_1a62_11ec_adb0_a84138edd5dcrow1_col16\" class=\"data row1 col16\" >0.606828</td>\n",
       "            </tr>\n",
       "            <tr>\n",
       "                        <th id=\"T_e0fcf231_1a62_11ec_adb0_a84138edd5dclevel0_row2\" class=\"row_heading level0 row2\" >2</th>\n",
       "                        <td id=\"T_e0fcf231_1a62_11ec_adb0_a84138edd5dcrow2_col0\" class=\"data row2 col0\" >0.134021</td>\n",
       "                        <td id=\"T_e0fcf231_1a62_11ec_adb0_a84138edd5dcrow2_col1\" class=\"data row2 col1\" >0.000000</td>\n",
       "                        <td id=\"T_e0fcf231_1a62_11ec_adb0_a84138edd5dcrow2_col2\" class=\"data row2 col2\" >0.000000</td>\n",
       "                        <td id=\"T_e0fcf231_1a62_11ec_adb0_a84138edd5dcrow2_col3\" class=\"data row2 col3\" >0.000000</td>\n",
       "                        <td id=\"T_e0fcf231_1a62_11ec_adb0_a84138edd5dcrow2_col4\" class=\"data row2 col4\" >0.332187</td>\n",
       "                        <td id=\"T_e0fcf231_1a62_11ec_adb0_a84138edd5dcrow2_col5\" class=\"data row2 col5\" >0.909091</td>\n",
       "                        <td id=\"T_e0fcf231_1a62_11ec_adb0_a84138edd5dcrow2_col6\" class=\"data row2 col6\" >0.000000</td>\n",
       "                        <td id=\"T_e0fcf231_1a62_11ec_adb0_a84138edd5dcrow2_col7\" class=\"data row2 col7\" >0.750000</td>\n",
       "                        <td id=\"T_e0fcf231_1a62_11ec_adb0_a84138edd5dcrow2_col8\" class=\"data row2 col8\" >0.113495</td>\n",
       "                        <td id=\"T_e0fcf231_1a62_11ec_adb0_a84138edd5dcrow2_col9\" class=\"data row2 col9\" >0.894872</td>\n",
       "                        <td id=\"T_e0fcf231_1a62_11ec_adb0_a84138edd5dcrow2_col10\" class=\"data row2 col10\" >0.531117</td>\n",
       "                        <td id=\"T_e0fcf231_1a62_11ec_adb0_a84138edd5dcrow2_col11\" class=\"data row2 col11\" >0.502623</td>\n",
       "                        <td id=\"T_e0fcf231_1a62_11ec_adb0_a84138edd5dcrow2_col12\" class=\"data row2 col12\" >0.068025</td>\n",
       "                        <td id=\"T_e0fcf231_1a62_11ec_adb0_a84138edd5dcrow2_col13\" class=\"data row2 col13\" >0.623130</td>\n",
       "                        <td id=\"T_e0fcf231_1a62_11ec_adb0_a84138edd5dcrow2_col14\" class=\"data row2 col14\" >0.243727</td>\n",
       "                        <td id=\"T_e0fcf231_1a62_11ec_adb0_a84138edd5dcrow2_col15\" class=\"data row2 col15\" >0.143312</td>\n",
       "                        <td id=\"T_e0fcf231_1a62_11ec_adb0_a84138edd5dcrow2_col16\" class=\"data row2 col16\" >0.393380</td>\n",
       "            </tr>\n",
       "    </tbody></table>   "
      ],
      "text/plain": [
       "<IPython.core.display.HTML object>"
      ]
     },
     "metadata": {},
     "output_type": "display_data"
    }
   ],
   "source": [
    "df_norm = df.copy()  # cópia do DataFrame\n",
    "\n",
    "# Para cada coluna de df_norm,\n",
    "for coluna in df_norm.columns:\n",
    "    \n",
    "    # Normalização Min-Max\n",
    "    X = df_norm[[coluna]]\n",
    "    df_norm[[coluna]] = (X - X.min()) / (X.max() - X.min())\n",
    "\n",
    "display_side_by_side([df.head(3), df_norm.head(3)], ['Original', 'Normalizado']) # imprime as 3 primeiras linhas"
   ]
  },
  {
   "cell_type": "markdown",
   "metadata": {
    "cell_style": "center"
   },
   "source": [
    "### PADRONIZAÇÃO\n",
    "\n",
    "A *Padronização* é outra técnica de escalonamento em que os valores são **centralizados** em torno da média. Isso significa que a média de cada atributo se iguala a 0 e a distribuição resultante tem um desvio padrão igual a 1.\n",
    "\n",
    "A fórmula da *Padronização* é dada por:\n",
    "\n",
    "$$X' = \\frac{X - \\mu}{\\sigma},$$\n",
    "\n",
    "onde $\\mu$ e $\\sigma$ são a média e o desvio padrão dos valores do atributo, respectivamente.\n",
    "\n",
    "#### EXEMPLO\n",
    "No exemplo a seguir, nós iremos padronizar todas as colunas numéricas da tabela `Tracks`.\n",
    "\n",
    "Isto é, para cada coluna, os valores serão subtraídos pela média e divididos pelo desvio padrão, aplicando a fórmula descrita anteriormente. Para isso, nós utilizaremos os métodos `mean()` e `std()` do *pandas*:"
   ]
  },
  {
   "cell_type": "code",
   "execution_count": 6,
   "metadata": {},
   "outputs": [
    {
     "data": {
      "text/html": [
       "<style  type=\"text/css\" >\n",
       "</style><table id=\"T_e116949b_1a62_11ec_8d68_a84138edd5dc\" style='display:inline'><caption>Original</caption><thead>    <tr>        <th class=\"blank level0\" ></th>        <th class=\"col_heading level0 col0\" >popularity</th>        <th class=\"col_heading level0 col1\" >track_number</th>        <th class=\"col_heading level0 col2\" >num_artists</th>        <th class=\"col_heading level0 col3\" >num_available_markets</th>        <th class=\"col_heading level0 col4\" >duration_ms</th>        <th class=\"col_heading level0 col5\" >key</th>        <th class=\"col_heading level0 col6\" >mode</th>        <th class=\"col_heading level0 col7\" >time_signature</th>        <th class=\"col_heading level0 col8\" >acousticness</th>        <th class=\"col_heading level0 col9\" >danceability</th>        <th class=\"col_heading level0 col10\" >energy</th>        <th class=\"col_heading level0 col11\" >instrumentalness</th>        <th class=\"col_heading level0 col12\" >liveness</th>        <th class=\"col_heading level0 col13\" >loudness</th>        <th class=\"col_heading level0 col14\" >speechiness</th>        <th class=\"col_heading level0 col15\" >valence</th>        <th class=\"col_heading level0 col16\" >tempo</th>    </tr></thead><tbody>\n",
       "                <tr>\n",
       "                        <th id=\"T_e116949b_1a62_11ec_8d68_a84138edd5dclevel0_row0\" class=\"row_heading level0 row0\" >0</th>\n",
       "                        <td id=\"T_e116949b_1a62_11ec_8d68_a84138edd5dcrow0_col0\" class=\"data row0 col0\" >77</td>\n",
       "                        <td id=\"T_e116949b_1a62_11ec_8d68_a84138edd5dcrow0_col1\" class=\"data row0 col1\" >10</td>\n",
       "                        <td id=\"T_e116949b_1a62_11ec_8d68_a84138edd5dcrow0_col2\" class=\"data row0 col2\" >1</td>\n",
       "                        <td id=\"T_e116949b_1a62_11ec_8d68_a84138edd5dcrow0_col3\" class=\"data row0 col3\" >177</td>\n",
       "                        <td id=\"T_e116949b_1a62_11ec_8d68_a84138edd5dcrow0_col4\" class=\"data row0 col4\" >159381</td>\n",
       "                        <td id=\"T_e116949b_1a62_11ec_8d68_a84138edd5dcrow0_col5\" class=\"data row0 col5\" >10</td>\n",
       "                        <td id=\"T_e116949b_1a62_11ec_8d68_a84138edd5dcrow0_col6\" class=\"data row0 col6\" >0</td>\n",
       "                        <td id=\"T_e116949b_1a62_11ec_8d68_a84138edd5dcrow0_col7\" class=\"data row0 col7\" >4</td>\n",
       "                        <td id=\"T_e116949b_1a62_11ec_8d68_a84138edd5dcrow0_col8\" class=\"data row0 col8\" >0.123000</td>\n",
       "                        <td id=\"T_e116949b_1a62_11ec_8d68_a84138edd5dcrow0_col9\" class=\"data row0 col9\" >0.784000</td>\n",
       "                        <td id=\"T_e116949b_1a62_11ec_8d68_a84138edd5dcrow0_col10\" class=\"data row0 col10\" >0.430000</td>\n",
       "                        <td id=\"T_e116949b_1a62_11ec_8d68_a84138edd5dcrow0_col11\" class=\"data row0 col11\" >0.000000</td>\n",
       "                        <td id=\"T_e116949b_1a62_11ec_8d68_a84138edd5dcrow0_col12\" class=\"data row0 col12\" >0.088700</td>\n",
       "                        <td id=\"T_e116949b_1a62_11ec_8d68_a84138edd5dcrow0_col13\" class=\"data row0 col13\" >-8.756000</td>\n",
       "                        <td id=\"T_e116949b_1a62_11ec_8d68_a84138edd5dcrow0_col14\" class=\"data row0 col14\" >0.036400</td>\n",
       "                        <td id=\"T_e116949b_1a62_11ec_8d68_a84138edd5dcrow0_col15\" class=\"data row0 col15\" >0.236000</td>\n",
       "                        <td id=\"T_e116949b_1a62_11ec_8d68_a84138edd5dcrow0_col16\" class=\"data row0 col16\" >127.087000</td>\n",
       "            </tr>\n",
       "            <tr>\n",
       "                        <th id=\"T_e116949b_1a62_11ec_8d68_a84138edd5dclevel0_row1\" class=\"row_heading level0 row1\" >1</th>\n",
       "                        <td id=\"T_e116949b_1a62_11ec_8d68_a84138edd5dcrow1_col0\" class=\"data row1 col0\" >66</td>\n",
       "                        <td id=\"T_e116949b_1a62_11ec_8d68_a84138edd5dcrow1_col1\" class=\"data row1 col1\" >14</td>\n",
       "                        <td id=\"T_e116949b_1a62_11ec_8d68_a84138edd5dcrow1_col2\" class=\"data row1 col2\" >1</td>\n",
       "                        <td id=\"T_e116949b_1a62_11ec_8d68_a84138edd5dcrow1_col3\" class=\"data row1 col3\" >178</td>\n",
       "                        <td id=\"T_e116949b_1a62_11ec_8d68_a84138edd5dcrow1_col4\" class=\"data row1 col4\" >188800</td>\n",
       "                        <td id=\"T_e116949b_1a62_11ec_8d68_a84138edd5dcrow1_col5\" class=\"data row1 col5\" >9</td>\n",
       "                        <td id=\"T_e116949b_1a62_11ec_8d68_a84138edd5dcrow1_col6\" class=\"data row1 col6\" >1</td>\n",
       "                        <td id=\"T_e116949b_1a62_11ec_8d68_a84138edd5dcrow1_col7\" class=\"data row1 col7\" >4</td>\n",
       "                        <td id=\"T_e116949b_1a62_11ec_8d68_a84138edd5dcrow1_col8\" class=\"data row1 col8\" >0.162000</td>\n",
       "                        <td id=\"T_e116949b_1a62_11ec_8d68_a84138edd5dcrow1_col9\" class=\"data row1 col9\" >0.775000</td>\n",
       "                        <td id=\"T_e116949b_1a62_11ec_8d68_a84138edd5dcrow1_col10\" class=\"data row1 col10\" >0.757000</td>\n",
       "                        <td id=\"T_e116949b_1a62_11ec_8d68_a84138edd5dcrow1_col11\" class=\"data row1 col11\" >0.000000</td>\n",
       "                        <td id=\"T_e116949b_1a62_11ec_8d68_a84138edd5dcrow1_col12\" class=\"data row1 col12\" >0.148000</td>\n",
       "                        <td id=\"T_e116949b_1a62_11ec_8d68_a84138edd5dcrow1_col13\" class=\"data row1 col13\" >-4.139000</td>\n",
       "                        <td id=\"T_e116949b_1a62_11ec_8d68_a84138edd5dcrow1_col14\" class=\"data row1 col14\" >0.175000</td>\n",
       "                        <td id=\"T_e116949b_1a62_11ec_8d68_a84138edd5dcrow1_col15\" class=\"data row1 col15\" >0.562000</td>\n",
       "                        <td id=\"T_e116949b_1a62_11ec_8d68_a84138edd5dcrow1_col16\" class=\"data row1 col16\" >142.933000</td>\n",
       "            </tr>\n",
       "            <tr>\n",
       "                        <th id=\"T_e116949b_1a62_11ec_8d68_a84138edd5dclevel0_row2\" class=\"row_heading level0 row2\" >2</th>\n",
       "                        <td id=\"T_e116949b_1a62_11ec_8d68_a84138edd5dcrow2_col0\" class=\"data row2 col0\" >13</td>\n",
       "                        <td id=\"T_e116949b_1a62_11ec_8d68_a84138edd5dcrow2_col1\" class=\"data row2 col1\" >1</td>\n",
       "                        <td id=\"T_e116949b_1a62_11ec_8d68_a84138edd5dcrow2_col2\" class=\"data row2 col2\" >1</td>\n",
       "                        <td id=\"T_e116949b_1a62_11ec_8d68_a84138edd5dcrow2_col3\" class=\"data row2 col3\" >0</td>\n",
       "                        <td id=\"T_e116949b_1a62_11ec_8d68_a84138edd5dcrow2_col4\" class=\"data row2 col4\" >180950</td>\n",
       "                        <td id=\"T_e116949b_1a62_11ec_8d68_a84138edd5dcrow2_col5\" class=\"data row2 col5\" >10</td>\n",
       "                        <td id=\"T_e116949b_1a62_11ec_8d68_a84138edd5dcrow2_col6\" class=\"data row2 col6\" >0</td>\n",
       "                        <td id=\"T_e116949b_1a62_11ec_8d68_a84138edd5dcrow2_col7\" class=\"data row2 col7\" >4</td>\n",
       "                        <td id=\"T_e116949b_1a62_11ec_8d68_a84138edd5dcrow2_col8\" class=\"data row2 col8\" >0.113000</td>\n",
       "                        <td id=\"T_e116949b_1a62_11ec_8d68_a84138edd5dcrow2_col9\" class=\"data row2 col9\" >0.882000</td>\n",
       "                        <td id=\"T_e116949b_1a62_11ec_8d68_a84138edd5dcrow2_col10\" class=\"data row2 col10\" >0.530000</td>\n",
       "                        <td id=\"T_e116949b_1a62_11ec_8d68_a84138edd5dcrow2_col11\" class=\"data row2 col11\" >0.479000</td>\n",
       "                        <td id=\"T_e116949b_1a62_11ec_8d68_a84138edd5dcrow2_col12\" class=\"data row2 col12\" >0.083800</td>\n",
       "                        <td id=\"T_e116949b_1a62_11ec_8d68_a84138edd5dcrow2_col13\" class=\"data row2 col13\" >-8.544000</td>\n",
       "                        <td id=\"T_e116949b_1a62_11ec_8d68_a84138edd5dcrow2_col14\" class=\"data row2 col14\" >0.233000</td>\n",
       "                        <td id=\"T_e116949b_1a62_11ec_8d68_a84138edd5dcrow2_col15\" class=\"data row2 col15\" >0.171000</td>\n",
       "                        <td id=\"T_e116949b_1a62_11ec_8d68_a84138edd5dcrow2_col16\" class=\"data row2 col16\" >109.090000</td>\n",
       "            </tr>\n",
       "    </tbody></table>   <style  type=\"text/css\" >\n",
       "</style><table id=\"T_e11e0ea8_1a62_11ec_bd9a_a84138edd5dc\" style='display:inline'><caption>Padronizado</caption><thead>    <tr>        <th class=\"blank level0\" ></th>        <th class=\"col_heading level0 col0\" >popularity</th>        <th class=\"col_heading level0 col1\" >track_number</th>        <th class=\"col_heading level0 col2\" >num_artists</th>        <th class=\"col_heading level0 col3\" >num_available_markets</th>        <th class=\"col_heading level0 col4\" >duration_ms</th>        <th class=\"col_heading level0 col5\" >key</th>        <th class=\"col_heading level0 col6\" >mode</th>        <th class=\"col_heading level0 col7\" >time_signature</th>        <th class=\"col_heading level0 col8\" >acousticness</th>        <th class=\"col_heading level0 col9\" >danceability</th>        <th class=\"col_heading level0 col10\" >energy</th>        <th class=\"col_heading level0 col11\" >instrumentalness</th>        <th class=\"col_heading level0 col12\" >liveness</th>        <th class=\"col_heading level0 col13\" >loudness</th>        <th class=\"col_heading level0 col14\" >speechiness</th>        <th class=\"col_heading level0 col15\" >valence</th>        <th class=\"col_heading level0 col16\" >tempo</th>    </tr></thead><tbody>\n",
       "                <tr>\n",
       "                        <th id=\"T_e11e0ea8_1a62_11ec_bd9a_a84138edd5dclevel0_row0\" class=\"row_heading level0 row0\" >0</th>\n",
       "                        <td id=\"T_e11e0ea8_1a62_11ec_bd9a_a84138edd5dcrow0_col0\" class=\"data row0 col0\" >0.448125</td>\n",
       "                        <td id=\"T_e11e0ea8_1a62_11ec_bd9a_a84138edd5dcrow0_col1\" class=\"data row0 col1\" >1.007112</td>\n",
       "                        <td id=\"T_e11e0ea8_1a62_11ec_bd9a_a84138edd5dcrow0_col2\" class=\"data row0 col2\" >-0.644346</td>\n",
       "                        <td id=\"T_e11e0ea8_1a62_11ec_bd9a_a84138edd5dcrow0_col3\" class=\"data row0 col3\" >0.361651</td>\n",
       "                        <td id=\"T_e11e0ea8_1a62_11ec_bd9a_a84138edd5dcrow0_col4\" class=\"data row0 col4\" >-0.846963</td>\n",
       "                        <td id=\"T_e11e0ea8_1a62_11ec_bd9a_a84138edd5dcrow0_col5\" class=\"data row0 col5\" >1.277028</td>\n",
       "                        <td id=\"T_e11e0ea8_1a62_11ec_bd9a_a84138edd5dcrow0_col6\" class=\"data row0 col6\" >-1.138397</td>\n",
       "                        <td id=\"T_e11e0ea8_1a62_11ec_bd9a_a84138edd5dcrow0_col7\" class=\"data row0 col7\" >0.106209</td>\n",
       "                        <td id=\"T_e11e0ea8_1a62_11ec_bd9a_a84138edd5dcrow0_col8\" class=\"data row0 col8\" >-0.483188</td>\n",
       "                        <td id=\"T_e11e0ea8_1a62_11ec_bd9a_a84138edd5dcrow0_col9\" class=\"data row0 col9\" >0.621100</td>\n",
       "                        <td id=\"T_e11e0ea8_1a62_11ec_bd9a_a84138edd5dcrow0_col10\" class=\"data row0 col10\" >-1.231196</td>\n",
       "                        <td id=\"T_e11e0ea8_1a62_11ec_bd9a_a84138edd5dcrow0_col11\" class=\"data row0 col11\" >-0.160381</td>\n",
       "                        <td id=\"T_e11e0ea8_1a62_11ec_bd9a_a84138edd5dcrow0_col12\" class=\"data row0 col12\" >-0.640537</td>\n",
       "                        <td id=\"T_e11e0ea8_1a62_11ec_bd9a_a84138edd5dcrow0_col13\" class=\"data row0 col13\" >-0.896190</td>\n",
       "                        <td id=\"T_e11e0ea8_1a62_11ec_bd9a_a84138edd5dcrow0_col14\" class=\"data row0 col14\" >-0.802165</td>\n",
       "                        <td id=\"T_e11e0ea8_1a62_11ec_bd9a_a84138edd5dcrow0_col15\" class=\"data row0 col15\" >-1.217354</td>\n",
       "                        <td id=\"T_e11e0ea8_1a62_11ec_bd9a_a84138edd5dcrow0_col16\" class=\"data row0 col16\" >0.122480</td>\n",
       "            </tr>\n",
       "            <tr>\n",
       "                        <th id=\"T_e11e0ea8_1a62_11ec_bd9a_a84138edd5dclevel0_row1\" class=\"row_heading level0 row1\" >1</th>\n",
       "                        <td id=\"T_e11e0ea8_1a62_11ec_bd9a_a84138edd5dcrow1_col0\" class=\"data row1 col0\" >-0.164943</td>\n",
       "                        <td id=\"T_e11e0ea8_1a62_11ec_bd9a_a84138edd5dcrow1_col1\" class=\"data row1 col1\" >1.806576</td>\n",
       "                        <td id=\"T_e11e0ea8_1a62_11ec_bd9a_a84138edd5dcrow1_col2\" class=\"data row1 col2\" >-0.644346</td>\n",
       "                        <td id=\"T_e11e0ea8_1a62_11ec_bd9a_a84138edd5dcrow1_col3\" class=\"data row1 col3\" >0.380038</td>\n",
       "                        <td id=\"T_e11e0ea8_1a62_11ec_bd9a_a84138edd5dcrow1_col4\" class=\"data row1 col4\" >-0.181157</td>\n",
       "                        <td id=\"T_e11e0ea8_1a62_11ec_bd9a_a84138edd5dcrow1_col5\" class=\"data row1 col5\" >1.003471</td>\n",
       "                        <td id=\"T_e11e0ea8_1a62_11ec_bd9a_a84138edd5dcrow1_col6\" class=\"data row1 col6\" >0.877744</td>\n",
       "                        <td id=\"T_e11e0ea8_1a62_11ec_bd9a_a84138edd5dcrow1_col7\" class=\"data row1 col7\" >0.106209</td>\n",
       "                        <td id=\"T_e11e0ea8_1a62_11ec_bd9a_a84138edd5dcrow1_col8\" class=\"data row1 col8\" >-0.327328</td>\n",
       "                        <td id=\"T_e11e0ea8_1a62_11ec_bd9a_a84138edd5dcrow1_col9\" class=\"data row1 col9\" >0.556130</td>\n",
       "                        <td id=\"T_e11e0ea8_1a62_11ec_bd9a_a84138edd5dcrow1_col10\" class=\"data row1 col10\" >0.809644</td>\n",
       "                        <td id=\"T_e11e0ea8_1a62_11ec_bd9a_a84138edd5dcrow1_col11\" class=\"data row1 col11\" >-0.160381</td>\n",
       "                        <td id=\"T_e11e0ea8_1a62_11ec_bd9a_a84138edd5dcrow1_col12\" class=\"data row1 col12\" >-0.225699</td>\n",
       "                        <td id=\"T_e11e0ea8_1a62_11ec_bd9a_a84138edd5dcrow1_col13\" class=\"data row1 col13\" >0.871711</td>\n",
       "                        <td id=\"T_e11e0ea8_1a62_11ec_bd9a_a84138edd5dcrow1_col14\" class=\"data row1 col14\" >0.462704</td>\n",
       "                        <td id=\"T_e11e0ea8_1a62_11ec_bd9a_a84138edd5dcrow1_col15\" class=\"data row1 col15\" >0.221431</td>\n",
       "                        <td id=\"T_e11e0ea8_1a62_11ec_bd9a_a84138edd5dcrow1_col16\" class=\"data row1 col16\" >0.658761</td>\n",
       "            </tr>\n",
       "            <tr>\n",
       "                        <th id=\"T_e11e0ea8_1a62_11ec_bd9a_a84138edd5dclevel0_row2\" class=\"row_heading level0 row2\" >2</th>\n",
       "                        <td id=\"T_e11e0ea8_1a62_11ec_bd9a_a84138edd5dcrow2_col0\" class=\"data row2 col0\" >-3.118819</td>\n",
       "                        <td id=\"T_e11e0ea8_1a62_11ec_bd9a_a84138edd5dcrow2_col1\" class=\"data row2 col1\" >-0.791681</td>\n",
       "                        <td id=\"T_e11e0ea8_1a62_11ec_bd9a_a84138edd5dcrow2_col2\" class=\"data row2 col2\" >-0.644346</td>\n",
       "                        <td id=\"T_e11e0ea8_1a62_11ec_bd9a_a84138edd5dcrow2_col3\" class=\"data row2 col3\" >-2.892824</td>\n",
       "                        <td id=\"T_e11e0ea8_1a62_11ec_bd9a_a84138edd5dcrow2_col4\" class=\"data row2 col4\" >-0.358817</td>\n",
       "                        <td id=\"T_e11e0ea8_1a62_11ec_bd9a_a84138edd5dcrow2_col5\" class=\"data row2 col5\" >1.277028</td>\n",
       "                        <td id=\"T_e11e0ea8_1a62_11ec_bd9a_a84138edd5dcrow2_col6\" class=\"data row2 col6\" >-1.138397</td>\n",
       "                        <td id=\"T_e11e0ea8_1a62_11ec_bd9a_a84138edd5dcrow2_col7\" class=\"data row2 col7\" >0.106209</td>\n",
       "                        <td id=\"T_e11e0ea8_1a62_11ec_bd9a_a84138edd5dcrow2_col8\" class=\"data row2 col8\" >-0.523152</td>\n",
       "                        <td id=\"T_e11e0ea8_1a62_11ec_bd9a_a84138edd5dcrow2_col9\" class=\"data row2 col9\" >1.328550</td>\n",
       "                        <td id=\"T_e11e0ea8_1a62_11ec_bd9a_a84138edd5dcrow2_col10\" class=\"data row2 col10\" >-0.607086</td>\n",
       "                        <td id=\"T_e11e0ea8_1a62_11ec_bd9a_a84138edd5dcrow2_col11\" class=\"data row2 col11\" >6.303556</td>\n",
       "                        <td id=\"T_e11e0ea8_1a62_11ec_bd9a_a84138edd5dcrow2_col12\" class=\"data row2 col12\" >-0.674816</td>\n",
       "                        <td id=\"T_e11e0ea8_1a62_11ec_bd9a_a84138edd5dcrow2_col13\" class=\"data row2 col13\" >-0.815013</td>\n",
       "                        <td id=\"T_e11e0ea8_1a62_11ec_bd9a_a84138edd5dcrow2_col14\" class=\"data row2 col14\" >0.992015</td>\n",
       "                        <td id=\"T_e11e0ea8_1a62_11ec_bd9a_a84138edd5dcrow2_col15\" class=\"data row2 col15\" >-1.504228</td>\n",
       "                        <td id=\"T_e11e0ea8_1a62_11ec_bd9a_a84138edd5dcrow2_col16\" class=\"data row2 col16\" >-0.486598</td>\n",
       "            </tr>\n",
       "    </tbody></table>   "
      ],
      "text/plain": [
       "<IPython.core.display.HTML object>"
      ]
     },
     "metadata": {},
     "output_type": "display_data"
    }
   ],
   "source": [
    "df_padron = df.copy()  # cópia do DataFrame\n",
    "\n",
    "# Para cada coluna de df_padron,\n",
    "for coluna in df_padron.columns:\n",
    "    \n",
    "    # Padronização\n",
    "    X = df_padron[[coluna]]\n",
    "    df_padron[[coluna]] = (X - X.mean()) / (X.std())\n",
    "\n",
    "display_side_by_side([df.head(3), df_padron.head(3)], ['Original', 'Padronizado']) # imprime as 3 primeiras linhas"
   ]
  },
  {
   "cell_type": "markdown",
   "metadata": {},
   "source": [
    "---\n",
    "## Engenharia de características (Feature Engineering)\n",
    "\n",
    "Além do escalonamento, outra forma de **transformar** os dados é através da **Engenharia de características**. Nesta técnica, características de um conjunto de dados podem ser criadas ou removidas para melhorar o desempenho de modelos de Aprendizado de Máquina. \n",
    "\n",
    "Muitas técnicas de <ins>**Transformação**</ins> e <ins>**Limpeza de dados**</ins> também podem ser consideradas **Engenharia de características**, incluindo métodos de escalonamento, discretização e redução de dimensionalidade. \n",
    "\n",
    "Portanto, a seguir, nós vamos discutir algumas técnicas que ainda não foram abordadas."
   ]
  },
  {
   "cell_type": "markdown",
   "metadata": {},
   "source": [
    "#### EXEMPLO\n",
    "\n",
    "Para exemplificar, utilizaremos dessa vez as variáveis não-numéricas da tabela `Tracks`."
   ]
  },
  {
   "cell_type": "code",
   "execution_count": 7,
   "metadata": {
    "cell_style": "center"
   },
   "outputs": [],
   "source": [
    "# Selecionando apenas variáveis não-numéricas\n",
    "df = data.select_dtypes(exclude=['number'])\n",
    "df = df.drop(columns=['song_id', 'song_name', 'artist_id', 'artist_name']) # removendo colunas desnecessárias\n",
    "# print(df.columns.values) # imprime as colunas restantes"
   ]
  },
  {
   "cell_type": "markdown",
   "metadata": {},
   "source": [
    "Depois de selecionar as variáveis, ficamos com os seguintes dados:\n",
    "\n",
    "* `explicit`: *flag* indicando se a track contém conteúdo explícito\n",
    "* `song_type`: se a track é do tipo *Solo* ou *Collaboration*\n",
    "* `release_date`: data de lançamento da track\n",
    "\n",
    "Utilizando esses atributos, nós iremos explorar duas formas de **Engenharia de características**: \n",
    "\n",
    "1. Converter variáveis categóricas em numéricas\n",
    "2. Criar novos atributos a partir de variáveis de data"
   ]
  },
  {
   "cell_type": "markdown",
   "metadata": {},
   "source": [
    "### CONVERTER DADOS CATEGÓRICOS\n",
    "\n",
    "Variáveis categóricas são atributos que só podem assumir um número **limitado** e, geralmente, **fixo** de valores possíveis. \n",
    "\n",
    "Por exemplo, as músicas do Spotify contêm dados categóricos para informar se as músicas são explícitas ou não (`explicit`). "
   ]
  },
  {
   "cell_type": "code",
   "execution_count": 8,
   "metadata": {},
   "outputs": [
    {
     "data": {
      "text/html": [
       "<div>\n",
       "<style scoped>\n",
       "    .dataframe tbody tr th:only-of-type {\n",
       "        vertical-align: middle;\n",
       "    }\n",
       "\n",
       "    .dataframe tbody tr th {\n",
       "        vertical-align: top;\n",
       "    }\n",
       "\n",
       "    .dataframe thead th {\n",
       "        text-align: right;\n",
       "    }\n",
       "</style>\n",
       "<table border=\"1\" class=\"dataframe\">\n",
       "  <thead>\n",
       "    <tr style=\"text-align: right;\">\n",
       "      <th></th>\n",
       "      <th>explicit</th>\n",
       "    </tr>\n",
       "  </thead>\n",
       "  <tbody>\n",
       "    <tr>\n",
       "      <th>0</th>\n",
       "      <td>False</td>\n",
       "    </tr>\n",
       "    <tr>\n",
       "      <th>1</th>\n",
       "      <td>True</td>\n",
       "    </tr>\n",
       "    <tr>\n",
       "      <th>2</th>\n",
       "      <td>False</td>\n",
       "    </tr>\n",
       "  </tbody>\n",
       "</table>\n",
       "</div>"
      ],
      "text/plain": [
       "   explicit\n",
       "0     False\n",
       "1      True\n",
       "2     False"
      ]
     },
     "execution_count": 8,
     "metadata": {},
     "output_type": "execute_result"
    }
   ],
   "source": [
    "df[['explicit']].head(3)"
   ]
  },
  {
   "cell_type": "markdown",
   "metadata": {},
   "source": [
    "Ou seja, cada unidade de observação (i.e., música) é atribuída a um determinado grupo ou categoria nominal (i.e. [`False` ou `True`]). "
   ]
  },
  {
   "cell_type": "markdown",
   "metadata": {},
   "source": [
    "No entanto, muitos algoritmos e modelos de Aprendizado de Máquina têm dificuldades em processar dados categóricos, necessitando alguma forma de **transformar** tais atributos em variáveis numéricas. \n",
    "\n",
    "Uma das abordagens mais simples e comuns é converter variáveis categóricas em *dummies* ou indicadores, utilizando a função `get_dummies()` do *pandas*, conforme o exemplo a seguir. "
   ]
  },
  {
   "cell_type": "code",
   "execution_count": 9,
   "metadata": {
    "cell_style": "center",
    "scrolled": true
   },
   "outputs": [
    {
     "data": {
      "text/html": [
       "<style  type=\"text/css\" >\n",
       "</style><table id=\"T_e1414e2c_1a62_11ec_9b71_a84138edd5dc\" style='display:inline'><caption>Original</caption><thead>    <tr>        <th class=\"blank level0\" ></th>        <th class=\"col_heading level0 col0\" >explicit</th>        <th class=\"col_heading level0 col1\" >song_type</th>    </tr></thead><tbody>\n",
       "                <tr>\n",
       "                        <th id=\"T_e1414e2c_1a62_11ec_9b71_a84138edd5dclevel0_row0\" class=\"row_heading level0 row0\" >0</th>\n",
       "                        <td id=\"T_e1414e2c_1a62_11ec_9b71_a84138edd5dcrow0_col0\" class=\"data row0 col0\" >False</td>\n",
       "                        <td id=\"T_e1414e2c_1a62_11ec_9b71_a84138edd5dcrow0_col1\" class=\"data row0 col1\" >Solo</td>\n",
       "            </tr>\n",
       "            <tr>\n",
       "                        <th id=\"T_e1414e2c_1a62_11ec_9b71_a84138edd5dclevel0_row1\" class=\"row_heading level0 row1\" >1</th>\n",
       "                        <td id=\"T_e1414e2c_1a62_11ec_9b71_a84138edd5dcrow1_col0\" class=\"data row1 col0\" >True</td>\n",
       "                        <td id=\"T_e1414e2c_1a62_11ec_9b71_a84138edd5dcrow1_col1\" class=\"data row1 col1\" >Solo</td>\n",
       "            </tr>\n",
       "            <tr>\n",
       "                        <th id=\"T_e1414e2c_1a62_11ec_9b71_a84138edd5dclevel0_row2\" class=\"row_heading level0 row2\" >2</th>\n",
       "                        <td id=\"T_e1414e2c_1a62_11ec_9b71_a84138edd5dcrow2_col0\" class=\"data row2 col0\" >False</td>\n",
       "                        <td id=\"T_e1414e2c_1a62_11ec_9b71_a84138edd5dcrow2_col1\" class=\"data row2 col1\" >Solo</td>\n",
       "            </tr>\n",
       "    </tbody></table>   <style  type=\"text/css\" >\n",
       "</style><table id=\"T_e141ea4a_1a62_11ec_a86b_a84138edd5dc\" style='display:inline'><caption>Transformado</caption><thead>    <tr>        <th class=\"blank level0\" ></th>        <th class=\"col_heading level0 col0\" >explicit_False</th>        <th class=\"col_heading level0 col1\" >explicit_True</th>        <th class=\"col_heading level0 col2\" >song_type_Collaboration</th>        <th class=\"col_heading level0 col3\" >song_type_Solo</th>    </tr></thead><tbody>\n",
       "                <tr>\n",
       "                        <th id=\"T_e141ea4a_1a62_11ec_a86b_a84138edd5dclevel0_row0\" class=\"row_heading level0 row0\" >0</th>\n",
       "                        <td id=\"T_e141ea4a_1a62_11ec_a86b_a84138edd5dcrow0_col0\" class=\"data row0 col0\" >1</td>\n",
       "                        <td id=\"T_e141ea4a_1a62_11ec_a86b_a84138edd5dcrow0_col1\" class=\"data row0 col1\" >0</td>\n",
       "                        <td id=\"T_e141ea4a_1a62_11ec_a86b_a84138edd5dcrow0_col2\" class=\"data row0 col2\" >0</td>\n",
       "                        <td id=\"T_e141ea4a_1a62_11ec_a86b_a84138edd5dcrow0_col3\" class=\"data row0 col3\" >1</td>\n",
       "            </tr>\n",
       "            <tr>\n",
       "                        <th id=\"T_e141ea4a_1a62_11ec_a86b_a84138edd5dclevel0_row1\" class=\"row_heading level0 row1\" >1</th>\n",
       "                        <td id=\"T_e141ea4a_1a62_11ec_a86b_a84138edd5dcrow1_col0\" class=\"data row1 col0\" >0</td>\n",
       "                        <td id=\"T_e141ea4a_1a62_11ec_a86b_a84138edd5dcrow1_col1\" class=\"data row1 col1\" >1</td>\n",
       "                        <td id=\"T_e141ea4a_1a62_11ec_a86b_a84138edd5dcrow1_col2\" class=\"data row1 col2\" >0</td>\n",
       "                        <td id=\"T_e141ea4a_1a62_11ec_a86b_a84138edd5dcrow1_col3\" class=\"data row1 col3\" >1</td>\n",
       "            </tr>\n",
       "            <tr>\n",
       "                        <th id=\"T_e141ea4a_1a62_11ec_a86b_a84138edd5dclevel0_row2\" class=\"row_heading level0 row2\" >2</th>\n",
       "                        <td id=\"T_e141ea4a_1a62_11ec_a86b_a84138edd5dcrow2_col0\" class=\"data row2 col0\" >1</td>\n",
       "                        <td id=\"T_e141ea4a_1a62_11ec_a86b_a84138edd5dcrow2_col1\" class=\"data row2 col1\" >0</td>\n",
       "                        <td id=\"T_e141ea4a_1a62_11ec_a86b_a84138edd5dcrow2_col2\" class=\"data row2 col2\" >0</td>\n",
       "                        <td id=\"T_e141ea4a_1a62_11ec_a86b_a84138edd5dcrow2_col3\" class=\"data row2 col3\" >1</td>\n",
       "            </tr>\n",
       "    </tbody></table>   "
      ],
      "text/plain": [
       "<IPython.core.display.HTML object>"
      ]
     },
     "metadata": {},
     "output_type": "display_data"
    }
   ],
   "source": [
    "# Selecionando os atributos categóricos\n",
    "df = data[['explicit', 'song_type']].astype('category')\n",
    "\n",
    "# Convertendo em dummies\n",
    "df_dummies = pd.get_dummies(df)\n",
    "\n",
    "display_side_by_side([df.head(3), df_dummies.head(3)], ['Original', 'Transformado']) # imprime as 3 primeiras linhas"
   ]
  },
  {
   "cell_type": "markdown",
   "metadata": {},
   "source": [
    "O método `get_dummies()` cria uma nova coluna contendo 0s e 1s para cada categoria possível do atributo, onde:\n",
    "\n",
    "* `0`: indica que o dado não é daquela categoria\n",
    "* `1`: indica que o dado é daquela categoria \n",
    "\n",
    "Como os dois atributos têm apenas duas categorias possíveis, o método criou duas colunas para cada atributo.\n",
    "\n",
    "\n",
    "> Bom, agora que vimos como converter **dados categóricos** em dados **numéricos**, vamos ver como criar novos atributos a partir de variáveis de **data**! 😉"
   ]
  },
  {
   "cell_type": "markdown",
   "metadata": {},
   "source": [
    "### VARIÁVEIS DE DATA\n",
    "\n",
    "Datas e horários são fontes valiosas de informações que podem ser usadas em projetos de Ciência de Dados.\n",
    "\n",
    "Por exemplo, em um modelo de predição de sucesso musical, pode ser útil considerar a data de lançamento das músicas. De fato, existem casos onde o período de lançamento influencia diretamente no sucesso musical.\n",
    "**Exemplos:** músicas de Carnaval, músicas natalinas, músicas da Copa, etc.\n",
    " \n",
    "No entanto, tecnicamente, as variáveis de data requerem alguma **Engenharia de características** para **transformá-las** em dados numéricos antes de serem usadas pelos algoritmos de Aprendizado de Máquina. \n",
    "\n",
    "#### EXEMPLO\n",
    "\n",
    "Para exemplificar, utilizaremos a data de lançamento das músicas do Spotify (`release_date`) convertendo em formatos mais amigáveis, extraindo recursos e criando novas variáveis que podem ser usadas na análise de algum modelo. "
   ]
  },
  {
   "cell_type": "code",
   "execution_count": 10,
   "metadata": {
    "cell_style": "center"
   },
   "outputs": [
    {
     "data": {
      "text/html": [
       "<div>\n",
       "<style scoped>\n",
       "    .dataframe tbody tr th:only-of-type {\n",
       "        vertical-align: middle;\n",
       "    }\n",
       "\n",
       "    .dataframe tbody tr th {\n",
       "        vertical-align: top;\n",
       "    }\n",
       "\n",
       "    .dataframe thead th {\n",
       "        text-align: right;\n",
       "    }\n",
       "</style>\n",
       "<table border=\"1\" class=\"dataframe\">\n",
       "  <thead>\n",
       "    <tr style=\"text-align: right;\">\n",
       "      <th></th>\n",
       "      <th>song_id</th>\n",
       "      <th>song_name</th>\n",
       "      <th>release_date</th>\n",
       "    </tr>\n",
       "  </thead>\n",
       "  <tbody>\n",
       "    <tr>\n",
       "      <th>0</th>\n",
       "      <td>2rRJrJEo19S2J82BDsQ3F7</td>\n",
       "      <td>Falling</td>\n",
       "      <td>2020-03-26</td>\n",
       "    </tr>\n",
       "    <tr>\n",
       "      <th>1</th>\n",
       "      <td>3BYIzNZ3t9lRQCACXSMLrT</td>\n",
       "      <td>Venetia</td>\n",
       "      <td>2020-03-06</td>\n",
       "    </tr>\n",
       "    <tr>\n",
       "      <th>2</th>\n",
       "      <td>1g3J9W88hTG173ySZR6E9S</td>\n",
       "      <td>Tilidin Weg</td>\n",
       "      <td>2020-07-30</td>\n",
       "    </tr>\n",
       "    <tr>\n",
       "      <th>3</th>\n",
       "      <td>75pQqzwgCjUOSSy5CpmAjy</td>\n",
       "      <td>Pero Ya No</td>\n",
       "      <td>2020-02-28</td>\n",
       "    </tr>\n",
       "    <tr>\n",
       "      <th>4</th>\n",
       "      <td>7kDUspsoYfLkWnZR7qwHZl</td>\n",
       "      <td>my ex's best friend (with blackbear)</td>\n",
       "      <td>2020-09-25</td>\n",
       "    </tr>\n",
       "  </tbody>\n",
       "</table>\n",
       "</div>"
      ],
      "text/plain": [
       "                  song_id                             song_name release_date\n",
       "0  2rRJrJEo19S2J82BDsQ3F7                               Falling   2020-03-26\n",
       "1  3BYIzNZ3t9lRQCACXSMLrT                               Venetia   2020-03-06\n",
       "2  1g3J9W88hTG173ySZR6E9S                           Tilidin Weg   2020-07-30\n",
       "3  75pQqzwgCjUOSSy5CpmAjy                            Pero Ya No   2020-02-28\n",
       "4  7kDUspsoYfLkWnZR7qwHZl  my ex's best friend (with blackbear)   2020-09-25"
      ]
     },
     "execution_count": 10,
     "metadata": {},
     "output_type": "execute_result"
    }
   ],
   "source": [
    "# Selecionando o id, nome e a data de lançamento das tracks\n",
    "df = data[['song_id', 'song_name', 'release_date']]\n",
    "df.head()"
   ]
  },
  {
   "cell_type": "markdown",
   "metadata": {},
   "source": [
    "O primeiro passo do processamento de datas é verificar se as variáveis estão em formato `datetime`.\n",
    "Para isso, podemos utilizar o `dtypes` para verificar o tipo de cada coluna do nosso *DataFrame*: "
   ]
  },
  {
   "cell_type": "code",
   "execution_count": 11,
   "metadata": {},
   "outputs": [
    {
     "data": {
      "text/plain": [
       "song_id         object\n",
       "song_name       object\n",
       "release_date    object\n",
       "dtype: object"
      ]
     },
     "execution_count": 11,
     "metadata": {},
     "output_type": "execute_result"
    }
   ],
   "source": [
    "df.dtypes # verificando o tipo das colunas de df"
   ]
  },
  {
   "cell_type": "markdown",
   "metadata": {},
   "source": [
    "Como podemos notar, o tipo da variável `release_date` é `object` e não `datetime`. Portanto, precisamos convertê-la antes de passar para a **Engenharia de características**. Para isso, usaremos o método `to_datetime()` do *pandas*:"
   ]
  },
  {
   "cell_type": "code",
   "execution_count": 12,
   "metadata": {},
   "outputs": [],
   "source": [
    "df['release_date'] = pd.to_datetime(df['release_date']) # convertendo a data de lançamento em 'datetime'"
   ]
  },
  {
   "cell_type": "code",
   "execution_count": 13,
   "metadata": {},
   "outputs": [
    {
     "data": {
      "text/plain": [
       "song_id                 object\n",
       "song_name               object\n",
       "release_date    datetime64[ns]\n",
       "dtype: object"
      ]
     },
     "execution_count": 13,
     "metadata": {},
     "output_type": "execute_result"
    }
   ],
   "source": [
    "df.dtypes # verificando o tipo das colunas de df"
   ]
  },
  {
   "cell_type": "markdown",
   "metadata": {},
   "source": [
    "**Deu certo!** 😃"
   ]
  },
  {
   "cell_type": "markdown",
   "metadata": {},
   "source": [
    "A biblioteca *pandas* disponibiliza diversas propriedades para variáveis `datetime`, incluindo:\n",
    "\n",
    "* `year`: o ano da `datetime`\n",
    "* `month`: o mês da `datetime`, onde `January=1` e `December=12`\n",
    "* `day`: o dia da `datetime`\n",
    "\n",
    "Então, depois de converter nossa variável para o tipo `datetime`, nós podemos quebrar a data de lançamento das músicas utilizando essas três propriedades:"
   ]
  },
  {
   "cell_type": "code",
   "execution_count": 14,
   "metadata": {},
   "outputs": [
    {
     "data": {
      "text/html": [
       "<div>\n",
       "<style scoped>\n",
       "    .dataframe tbody tr th:only-of-type {\n",
       "        vertical-align: middle;\n",
       "    }\n",
       "\n",
       "    .dataframe tbody tr th {\n",
       "        vertical-align: top;\n",
       "    }\n",
       "\n",
       "    .dataframe thead th {\n",
       "        text-align: right;\n",
       "    }\n",
       "</style>\n",
       "<table border=\"1\" class=\"dataframe\">\n",
       "  <thead>\n",
       "    <tr style=\"text-align: right;\">\n",
       "      <th></th>\n",
       "      <th>song_id</th>\n",
       "      <th>song_name</th>\n",
       "      <th>release_date</th>\n",
       "      <th>day</th>\n",
       "      <th>month</th>\n",
       "      <th>year</th>\n",
       "    </tr>\n",
       "  </thead>\n",
       "  <tbody>\n",
       "    <tr>\n",
       "      <th>0</th>\n",
       "      <td>2rRJrJEo19S2J82BDsQ3F7</td>\n",
       "      <td>Falling</td>\n",
       "      <td>2020-03-26</td>\n",
       "      <td>26</td>\n",
       "      <td>3</td>\n",
       "      <td>2020</td>\n",
       "    </tr>\n",
       "    <tr>\n",
       "      <th>1</th>\n",
       "      <td>3BYIzNZ3t9lRQCACXSMLrT</td>\n",
       "      <td>Venetia</td>\n",
       "      <td>2020-03-06</td>\n",
       "      <td>6</td>\n",
       "      <td>3</td>\n",
       "      <td>2020</td>\n",
       "    </tr>\n",
       "    <tr>\n",
       "      <th>2</th>\n",
       "      <td>1g3J9W88hTG173ySZR6E9S</td>\n",
       "      <td>Tilidin Weg</td>\n",
       "      <td>2020-07-30</td>\n",
       "      <td>30</td>\n",
       "      <td>7</td>\n",
       "      <td>2020</td>\n",
       "    </tr>\n",
       "  </tbody>\n",
       "</table>\n",
       "</div>"
      ],
      "text/plain": [
       "                  song_id    song_name release_date  day  month  year\n",
       "0  2rRJrJEo19S2J82BDsQ3F7      Falling   2020-03-26   26      3  2020\n",
       "1  3BYIzNZ3t9lRQCACXSMLrT      Venetia   2020-03-06    6      3  2020\n",
       "2  1g3J9W88hTG173ySZR6E9S  Tilidin Weg   2020-07-30   30      7  2020"
      ]
     },
     "execution_count": 14,
     "metadata": {},
     "output_type": "execute_result"
    }
   ],
   "source": [
    "# Extraindo propriedades básicas de uma variável datetime\n",
    "df['day'] = df['release_date'].dt.day  # dia\n",
    "df['month'] = df['release_date'].dt.month  # mês\n",
    "df['year'] = df['release_date'].dt.year  # ano\n",
    "df.head(3)"
   ]
  },
  {
   "cell_type": "markdown",
   "metadata": {},
   "source": [
    "Além dessas propriedades básicas, existem outras informações que podemos extrair da nossa variável `datetime`.\n",
    "\n",
    "Por exemplo, a semana do ano, o dia da semana e o trimestre:"
   ]
  },
  {
   "cell_type": "code",
   "execution_count": 16,
   "metadata": {},
   "outputs": [
    {
     "data": {
      "text/html": [
       "<div>\n",
       "<style scoped>\n",
       "    .dataframe tbody tr th:only-of-type {\n",
       "        vertical-align: middle;\n",
       "    }\n",
       "\n",
       "    .dataframe tbody tr th {\n",
       "        vertical-align: top;\n",
       "    }\n",
       "\n",
       "    .dataframe thead th {\n",
       "        text-align: right;\n",
       "    }\n",
       "</style>\n",
       "<table border=\"1\" class=\"dataframe\">\n",
       "  <thead>\n",
       "    <tr style=\"text-align: right;\">\n",
       "      <th></th>\n",
       "      <th>song_id</th>\n",
       "      <th>song_name</th>\n",
       "      <th>release_date</th>\n",
       "      <th>day</th>\n",
       "      <th>month</th>\n",
       "      <th>year</th>\n",
       "      <th>week</th>\n",
       "      <th>dayofweek_index</th>\n",
       "      <th>dayofweek_name</th>\n",
       "      <th>quarter</th>\n",
       "    </tr>\n",
       "  </thead>\n",
       "  <tbody>\n",
       "    <tr>\n",
       "      <th>0</th>\n",
       "      <td>2rRJrJEo19S2J82BDsQ3F7</td>\n",
       "      <td>Falling</td>\n",
       "      <td>2020-03-26</td>\n",
       "      <td>26</td>\n",
       "      <td>3</td>\n",
       "      <td>2020</td>\n",
       "      <td>13</td>\n",
       "      <td>3</td>\n",
       "      <td>Thursday</td>\n",
       "      <td>1</td>\n",
       "    </tr>\n",
       "    <tr>\n",
       "      <th>1</th>\n",
       "      <td>3BYIzNZ3t9lRQCACXSMLrT</td>\n",
       "      <td>Venetia</td>\n",
       "      <td>2020-03-06</td>\n",
       "      <td>6</td>\n",
       "      <td>3</td>\n",
       "      <td>2020</td>\n",
       "      <td>10</td>\n",
       "      <td>4</td>\n",
       "      <td>Friday</td>\n",
       "      <td>1</td>\n",
       "    </tr>\n",
       "    <tr>\n",
       "      <th>2</th>\n",
       "      <td>1g3J9W88hTG173ySZR6E9S</td>\n",
       "      <td>Tilidin Weg</td>\n",
       "      <td>2020-07-30</td>\n",
       "      <td>30</td>\n",
       "      <td>7</td>\n",
       "      <td>2020</td>\n",
       "      <td>31</td>\n",
       "      <td>3</td>\n",
       "      <td>Thursday</td>\n",
       "      <td>3</td>\n",
       "    </tr>\n",
       "  </tbody>\n",
       "</table>\n",
       "</div>"
      ],
      "text/plain": [
       "                  song_id    song_name release_date  day  month  year  week  \\\n",
       "0  2rRJrJEo19S2J82BDsQ3F7      Falling   2020-03-26   26      3  2020    13   \n",
       "1  3BYIzNZ3t9lRQCACXSMLrT      Venetia   2020-03-06    6      3  2020    10   \n",
       "2  1g3J9W88hTG173ySZR6E9S  Tilidin Weg   2020-07-30   30      7  2020    31   \n",
       "\n",
       "   dayofweek_index dayofweek_name  quarter  \n",
       "0                3       Thursday        1  \n",
       "1                4         Friday        1  \n",
       "2                3       Thursday        3  "
      ]
     },
     "execution_count": 16,
     "metadata": {},
     "output_type": "execute_result"
    }
   ],
   "source": [
    "# Extraindo propriedades extras de uma variável datetime\n",
    "df['week'] = df['release_date'].dt.isocalendar().week  # semana do ano\n",
    "df['dayofweek_index'] = df['release_date'].dt.dayofweek  # dia da semana (índice)\n",
    "df['dayofweek_name'] = df['release_date'].dt.day_name() # dia da semana (nome)\n",
    "df['quarter'] = df['release_date'].dt.quarter # trimestre\n",
    "df.head(3)"
   ]
  },
  {
   "cell_type": "markdown",
   "metadata": {},
   "source": [
    "## Conclusão\n",
    "\n",
    "Este notebook apresentou como fazer a transformação de dados de diferentes formatos a partir de diversas abordagens.\n",
    "\n",
    "🔎 **Se interessou?** \n",
    "\n",
    "* Para mais propriedades de variáveis `datetime`, veja a documentação do *pandas*: [DatetimeIndex](https://pandas.pydata.org/docs/reference/api/pandas.DatetimeIndex.html)\n",
    "\n",
    "---\n",
    "\n",
    "O próximo notebook ([2.3.Ciencia.Dados.Basica.ipynb](2.3.Ciencia.Dados.Basica.ipynb)) apresenta métodos para realiar a Análise de Exploração de Dados."
   ]
  }
 ],
 "metadata": {
  "julynter-results": {
   "filteredId": [],
   "filteredIndividual": [],
   "filteredRestart": [],
   "filteredType": [],
   "hash": "5262264cd9b5bca8895a3c3c49a809815b06710a",
   "visible": []
  },
  "kernelspec": {
   "display_name": "Python 3",
   "language": "python",
   "name": "python3"
  },
  "language_info": {
   "codemirror_mode": {
    "name": "ipython",
    "version": 3
   },
   "file_extension": ".py",
   "mimetype": "text/x-python",
   "name": "python",
   "nbconvert_exporter": "python",
   "pygments_lexer": "ipython3",
   "version": "3.8.2"
  },
  "latex_envs": {
   "LaTeX_envs_menu_present": true,
   "autoclose": true,
   "autocomplete": true,
   "bibliofile": "biblio.bib",
   "cite_by": "apalike",
   "current_citInitial": 1,
   "eqLabelWithNumbers": true,
   "eqNumInitial": 1,
   "hotkeys": {
    "equation": "Ctrl-E",
    "itemize": "Ctrl-I"
   },
   "labels_anchors": false,
   "latex_user_defs": false,
   "report_style_numbering": false,
   "user_envs_cfg": false
  },
  "varInspector": {
   "cols": {
    "lenName": 16,
    "lenType": 16,
    "lenVar": 40
   },
   "kernels_config": {
    "python": {
     "delete_cmd_postfix": "",
     "delete_cmd_prefix": "del ",
     "library": "var_list.py",
     "varRefreshCmd": "print(var_dic_list())"
    },
    "r": {
     "delete_cmd_postfix": ") ",
     "delete_cmd_prefix": "rm(",
     "library": "var_list.r",
     "varRefreshCmd": "cat(var_dic_list()) "
    }
   },
   "types_to_exclude": [
    "module",
    "function",
    "builtin_function_or_method",
    "instance",
    "_Feature"
   ],
   "window_display": false
  }
 },
 "nbformat": 4,
 "nbformat_minor": 4
}
