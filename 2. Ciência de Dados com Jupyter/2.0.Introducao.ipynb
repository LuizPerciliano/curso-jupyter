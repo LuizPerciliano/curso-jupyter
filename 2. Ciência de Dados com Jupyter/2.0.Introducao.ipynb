{
 "cells": [
  {
   "cell_type": "markdown",
   "metadata": {
    "ExecuteTime": {
     "end_time": "2021-07-13T21:13:41.368079Z",
     "start_time": "2021-07-13T21:13:41.352102Z"
    }
   },
   "source": [
    "# Ciência de Dados com Jupyter\n",
    "\n",
    "---\n",
    "\n",
    "Pré-processamento de dados e Análise Exploratória dos Dados (Exploratory Data Analysis – EDA).\n",
    "\n",
    "> **Mariana O. S. Silva**\n",
    "- [Integração de Dados](./2.1.Integracao.ipynb)\n",
    "- [Transformação de Dados](./2.2.Transformacao.ipynb)\n",
    "\n",
    "> **Gabriel P. Oliveira**\n",
    "- [Ciência de Dados Básica](./2.3.Ciencia.Dados.Basica.ipynb)\n",
    "- [Visualização de Dados Básica](./2.4.Visualizacao.ipynb)"
   ]
  }
 ],
 "metadata": {
  "julynter-results": {
   "filteredId": [],
   "filteredIndividual": [],
   "filteredRestart": [],
   "filteredType": [],
   "hash": "54ddb368d9f7cf46f2f0eb7e1cec7b2db4667dd4",
   "visible": []
  },
  "kernelspec": {
   "display_name": "Python 3",
   "language": "python",
   "name": "python3"
  },
  "language_info": {
   "codemirror_mode": {
    "name": "ipython",
    "version": 3
   },
   "file_extension": ".py",
   "mimetype": "text/x-python",
   "name": "python",
   "nbconvert_exporter": "python",
   "pygments_lexer": "ipython3",
   "version": "3.8.2"
  },
  "latex_envs": {
   "LaTeX_envs_menu_present": true,
   "autoclose": true,
   "autocomplete": true,
   "bibliofile": "biblio.bib",
   "cite_by": "apalike",
   "current_citInitial": 1,
   "eqLabelWithNumbers": true,
   "eqNumInitial": 1,
   "hotkeys": {
    "equation": "Ctrl-E",
    "itemize": "Ctrl-I"
   },
   "labels_anchors": false,
   "latex_user_defs": false,
   "report_style_numbering": false,
   "user_envs_cfg": false
  },
  "varInspector": {
   "cols": {
    "lenName": 16,
    "lenType": 16,
    "lenVar": 40
   },
   "kernels_config": {
    "python": {
     "delete_cmd_postfix": "",
     "delete_cmd_prefix": "del ",
     "library": "var_list.py",
     "varRefreshCmd": "print(var_dic_list())"
    },
    "r": {
     "delete_cmd_postfix": ") ",
     "delete_cmd_prefix": "rm(",
     "library": "var_list.r",
     "varRefreshCmd": "cat(var_dic_list()) "
    }
   },
   "types_to_exclude": [
    "module",
    "function",
    "builtin_function_or_method",
    "instance",
    "_Feature"
   ],
   "window_display": false
  }
 },
 "nbformat": 4,
 "nbformat_minor": 4
}
