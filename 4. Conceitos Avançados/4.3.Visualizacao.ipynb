{
 "cells": [
  {
   "cell_type": "markdown",
   "metadata": {},
   "source": [
    "# Visualização de Dados Científicos: Conceitos Avançados\n",
    "\n",
    "Em Ciência de Dados, a Visualização de Dados é uma fase importante que envolve a representação gráfica de informações. Através de elementos visuais, ela permite a **atribuição de sentido e a comunicação de tendências e padrões nos dados**.\n",
    "\n",
    "<br>\n",
    "\n",
    "> **Por que criar visualizações usando Jupyter?** 🤔\n",
    "\n",
    "Além do suporte simplificado do Jupyter, a linguagem Python oferece uma variedadede bibliotecas e módulos de visualização de dados, como <ins>Matplotlib</ins> e <ins>Seaborn</ins>. Ambas  funcionam  muito  bem para a tarefa de visualização, sendo mais poderosas quando comparadas com os recursos adicionais de plotagem incorporados do Pandas.\n",
    "\n",
    "<br>\n",
    "\n",
    "A organização deste notebook é a seguinte:\n",
    "\n",
    "- [Conteúdo Extra](#extra)\n",
    "    - [Personalização](#personalizacao)\n",
    "    - [Gráficos interativos](#interativos)"
   ]
  },
  {
   "cell_type": "code",
   "execution_count": null,
   "metadata": {},
   "outputs": [],
   "source": [
    "# Importando os pacotes necessários\n",
    "import pandas as pd\n",
    "import numpy as np\n",
    "import seaborn as sns\n",
    "import matplotlib.pyplot as plt\n",
    "\n",
    "pd.set_option('display.max_columns', 6)"
   ]
  },
  {
   "cell_type": "markdown",
   "metadata": {},
   "source": [
    "<a id=\"extra\"></a>\n",
    "\n",
    "## Conteúdo Extra \n",
    "\n",
    "### Personalização\n",
    "\n",
    "Uma das maiores vantagens de se usar o Matplotlib/Seaborn para gerar gráficos é que você pode **personalizar** absolutamente (ou quase) tudo neles. \n",
    "\n",
    "> **DICA:** A quantidade de opções disponíveis para personalização é imensa, e uma das vantagens de se usar uma linguagem de programação tão popular quanto Python é a grande **disponibilidade de exemplos e tutoriais** sobre isso na Internet. \n",
    "\n",
    "Aqui, vamos focar em quatro tipos de personalização básicas:\n",
    "\n",
    "- [Cores](#cores)\n",
    "- [Estilos](#estilos)\n",
    "- [Eixos](#eixos)\n",
    "- [Fontes](#fontes)\n",
    "\n",
    "Essas personalizações podem transformar os gráficos, deixando-os mais <ins>sofisticados e apresentáveis</ins>.\n",
    "\n",
    "Para ilustrar melhor, vamos trabalhar com um gráfico de linhas para acompanhar a **evolução da média de streams de músicas solo e colaborações em 2020**. "
   ]
  },
  {
   "cell_type": "code",
   "execution_count": null,
   "metadata": {},
   "outputs": [],
   "source": [
    "# Lendo os dados\n",
    "df_hits = pd.read_table('../dataset/spotify_hits_dataset_complete.tsv', encoding='utf-8')\n",
    "df_charts = pd.read_table('../dataset/spotify_charts_complete.tsv', encoding='utf-8', parse_dates=['chart_week'])"
   ]
  },
  {
   "cell_type": "code",
   "execution_count": null,
   "metadata": {},
   "outputs": [],
   "source": [
    "# Monta os DataFrames que servirão de base para gerar os gráficos\n",
    "df_evolution = pd.merge(df_charts, df_hits, on='song_id')[['chart_week', 'song_type', 'streams']]\n",
    "\n",
    "df_solo = df_evolution[df_evolution['song_type'] == 'Solo'].groupby(by=['chart_week']).mean()\n",
    "df_collab = df_evolution[df_evolution['song_type'] == 'Collaboration'].groupby(by=['chart_week']).mean()"
   ]
  },
  {
   "cell_type": "code",
   "execution_count": null,
   "metadata": {},
   "outputs": [],
   "source": [
    "# Define o tamanho da figura\n",
    "fig, ax = plt.subplots(figsize=(15, 4))        # O tamanho será de 15x4 polegadas (largura, altura)\n",
    "\n",
    "# Plota a linha de evolução da soma dos streams pra músicas Solo/Collab\n",
    "ax.plot(df_solo, label=\"Solo\")\n",
    "ax.plot(df_collab, label=\"Collaboration\")\n",
    "\n",
    "# Mostra a legenda (cada cor uma tipo)\n",
    "plt.legend()\n",
    "\n",
    "# Altera nome dos eixos\n",
    "plt.xlabel(\"\")                                 # Aqui optei por tirar o nome do eixo x, mas poderia ser 'Data'\n",
    "plt.ylabel(\"Streams\")\n",
    "\n",
    "# Exibir e salvar\n",
    "plt.show()                                     # Esse comando é somente para mostrar a figura aqui embaixo"
   ]
  },
  {
   "cell_type": "markdown",
   "metadata": {},
   "source": [
    "<a name=\"cores\"></a>\n",
    "#### Cores\n",
    "\n",
    "Quando plotamos gráficos no Matplotlib, o pacote geralmente utiliza as cores padrão, que nem sempre são as melhores ou mais apresentáveis. Felizmente, podemos facilmente alterar as cores das coisas que plotamos através do parâmetro `color` da função `plot`. \n",
    "\n",
    "O Matplotlib aceita algumas cores [nomeadas](https://matplotlib.org/stable/gallery/color/named_colors.html) e também códigos hexadecimais, RGB e CMYK. \n",
    "\n",
    "Aqui, escolhemos a cor de cada linha através de seu código hexadecimal. Por exemplo, para músicas Solo, escolhemos uma cor cujo código é `#1b9e77`."
   ]
  },
  {
   "cell_type": "code",
   "execution_count": null,
   "metadata": {},
   "outputs": [],
   "source": [
    "# Define o tamanho da figura\n",
    "fig, ax = plt.subplots(figsize=(15, 4))        # O tamanho será de 15x4 polegadas (largura, altura)\n",
    "\n",
    "# Plota a linha de evolução da soma dos streams pra músicas Solo/Collab\n",
    "ax.plot(df_solo, label=\"Solo\", color=\"#1b9e77\")\n",
    "ax.plot(df_collab, label=\"Collaboration\", color=\"#d95f02\")\n",
    "\n",
    "# Mostra a legenda (cada cor uma tipo)\n",
    "plt.legend()\n",
    "\n",
    "# Altera nome dos eixos\n",
    "plt.xlabel(\"\")                                 # Aqui optei por tirar o nome do eixo x, mas poderia ser 'Data'\n",
    "plt.ylabel(\"Streams\")\n",
    "\n",
    "# Exibir e salvar\n",
    "plt.show()                                     # Esse comando é somente para mostrar a figura aqui embaixo"
   ]
  },
  {
   "cell_type": "markdown",
   "metadata": {},
   "source": [
    "<a name=\"estilos\"></a>\n",
    "#### Estilos\n",
    "\n",
    "Um outro ponto que devemos nos preocupar é o estilo das linhas. Na vida profissional, é bastante comum fazer gráficos para serem anexadas em artigos e/ou relatórios, que quase sempre são impressos em escala de cinza. Assim, as cores das linhas que serviam para diferenciá-las umas das outras, perdem sua utilidade pois muitas são impressas em tons muito semelhantes de cinza. \n",
    "\n",
    "Portanto, é necessário encontrar uma forma a mais para diferenciá-las. O Matplotlib nos oferece a opção de escolher [estilos variádos](https://matplotlib.org/stable/gallery/lines_bars_and_markers/linestyles.html) para nossas linhas (contínua, pontilhada, tracejada, etc.) através do parâmetro `linestyle` presente na função `plot`."
   ]
  },
  {
   "cell_type": "code",
   "execution_count": null,
   "metadata": {},
   "outputs": [],
   "source": [
    "# Define o tamanho da figura\n",
    "fig, ax = plt.subplots(figsize=(15, 4))        # O tamanho será de 15x4 polegadas (largura, altura)\n",
    "\n",
    "# Plota a linha de evolução da soma dos streams pra músicas Solo/Collab\n",
    "ax.plot(df_solo, label=\"Solo\", color=\"#1b9e77\", linestyle=\"-\")\n",
    "ax.plot(df_collab, label=\"Collaboration\", color=\"#d95f02\", linestyle=\"-.\")\n",
    "\n",
    "# Mostra a legenda (cada cor uma tipo)\n",
    "plt.legend()\n",
    "\n",
    "# Altera nome dos eixos\n",
    "plt.xlabel(\"\")                                 # Aqui optei por tirar o nome do eixo x, mas poderia ser 'Data'\n",
    "plt.ylabel(\"Streams\")\n",
    "\n",
    "# Exibir e salvar\n",
    "plt.show()                                     # Esse comando é somente para mostrar a figura aqui embaixo"
   ]
  },
  {
   "cell_type": "markdown",
   "metadata": {},
   "source": [
    "<a name=\"eixos\"></a>\n",
    "#### Eixos\n",
    "\n",
    "Os eixos também são partes importantes dos nossos gráficos, pois lá estão contidas informações relevantes sobre escalas, valores de referência e nome das variáveis categóricas. Aqui, nossas alterações focam em dois pontos principais:\n",
    "\n",
    "- Remoção das bordas da figura do gráfico (através do método `spines`)\n",
    "- Adição de *grids* internos para facilitar a visualização de pontos no gráfico"
   ]
  },
  {
   "cell_type": "code",
   "execution_count": null,
   "metadata": {},
   "outputs": [],
   "source": [
    "from matplotlib.dates import DateFormatter"
   ]
  },
  {
   "cell_type": "code",
   "execution_count": null,
   "metadata": {},
   "outputs": [],
   "source": [
    "# Define o tamanho da figura\n",
    "fig, ax = plt.subplots(figsize=(15, 4))        # O tamanho será de 15x4 polegadas (largura, altura)\n",
    "\n",
    "# Plota a linha de evolução da soma dos streams pra músicas Solo/Collab\n",
    "ax.plot(df_solo, label=\"Solo\", color=\"#1b9e77\", linestyle=\"-\")\n",
    "ax.plot(df_collab, label=\"Collaboration\", color=\"#d95f02\", linestyle=\"-.\")\n",
    "\n",
    "# Mostra a legenda (cada cor uma tipo)\n",
    "plt.legend()\n",
    "\n",
    "# Altera nome dos eixos\n",
    "plt.xlabel(\"\")                                 # Aqui optei por tirar o nome do eixo x, mas poderia ser 'Data'\n",
    "plt.ylabel(\"Streams\")\n",
    "\n",
    "# Formata o texto dos eixos\n",
    "ax.xaxis.set_major_formatter(DateFormatter(\"%b/%Y\")) # Formato da data (%b - abreviação do mês)\n",
    "\n",
    "# Remove bordas e ticks dos eixos x e y\n",
    "ax.spines['top'].set_visible(False)\n",
    "ax.spines['right'].set_visible(False)\n",
    "ax.spines['bottom'].set_visible(False)\n",
    "ax.spines['left'].set_visible(False)\n",
    "ax.tick_params(axis=u'both', which=u'both',length=0)\n",
    "\n",
    "# Adiciona grid interno\n",
    "ax.xaxis.grid(linestyle='-', color='#ededed')\n",
    "ax.yaxis.grid(linestyle='-', color='#d1d1d1')\n",
    "\n",
    "# Exibir e salvar\n",
    "plt.show()                                     # Esse comando é somente para mostrar a figura aqui embaixo"
   ]
  },
  {
   "cell_type": "markdown",
   "metadata": {},
   "source": [
    "<a name=\"fontes\"></a>\n",
    "#### Fontes\n",
    "\n",
    "A última personalização desse Notebook diz respeito às fontes usadas no gráfico. O Matplotlib permite ao usuário utilizar qualquer fonte instalada em seu computador nos gráficos. Além disso, o tamanho das fontes nos eixos, legendas e título podem ser alteradas separadamente (ou seja, podemos aplicar valores distintos) para deixar nosso gráfico mais adequado ao seu propósito.\n",
    "\n",
    "Neste último exemplo, aumentamos o tamanho do texto da legenda e do eixo y através do parâmetro `fontsize`."
   ]
  },
  {
   "cell_type": "code",
   "execution_count": null,
   "metadata": {},
   "outputs": [],
   "source": [
    "# Define o tamanho da figura\n",
    "fig, ax = plt.subplots(figsize=(15, 4))        # O tamanho será de 15x4 polegadas (largura, altura)\n",
    "\n",
    "# Plota a linha de evolução da soma dos streams pra músicas Solo/Collab\n",
    "ax.plot(df_solo, label=\"Solo\", color=\"#1b9e77\", linestyle=\"-\")\n",
    "ax.plot(df_collab, label=\"Collaboration\", color=\"#d95f02\", linestyle=\"-.\")\n",
    "\n",
    "# Mostra a legenda (cada cor uma tipo)\n",
    "plt.legend(fontsize=11.5)\n",
    "\n",
    "# Altera nome dos eixos\n",
    "ax.set_xlabel(\"\")                              # Aqui optei por tirar o nome do eixo x, mas poderia ser 'Data'\n",
    "ax.set_ylabel(\"Streams\", fontsize=11.5)\n",
    "\n",
    "# Formata o texto dos eixos\n",
    "ax.xaxis.set_major_formatter(DateFormatter(\"%b/%Y\")) # Formato da data (%b - abreviação do mês)\n",
    "\n",
    "# Remove bordas e ticks dos eixos x e y\n",
    "ax.spines['top'].set_visible(False)\n",
    "ax.spines['right'].set_visible(False)\n",
    "ax.spines['bottom'].set_visible(False)\n",
    "ax.spines['left'].set_visible(False)\n",
    "ax.tick_params(axis=u'both', which=u'both',length=0)\n",
    "\n",
    "# Adiciona grid interno\n",
    "ax.xaxis.grid(linestyle='-', color='#ededed')\n",
    "ax.yaxis.grid(linestyle='-', color='#d1d1d1')\n",
    "\n",
    "# Exibir e salvar\n",
    "#plt.savefig('lineplot.pdf')                    # Salva a imagem em formato PDF \n",
    "plt.show()                                     # Esse comando é somente para mostrar a figura aqui embaixo"
   ]
  },
  {
   "cell_type": "markdown",
   "metadata": {},
   "source": [
    "<br><br>\n",
    "<a id=\"interativos\"></a>\n",
    "\n",
    "---\n",
    "\n",
    "### Gráficos interativos\n",
    "\n",
    "Uma outra possibilidade do Jupyter é a construção de **ferramentas interativas** com o IPython. Este já é um conceito mais avançado, que será detalhado na próxima parte do curso.\n",
    "\n",
    "Aqui, vamos nos concentrar na apresentação de gráficos interativos utilizando as bibliotecas `plotly` e `cufflinks`.\n",
    "\n",
    "> **IMPORTANTE:** Se você ainda não possui essas bibliotecas instaladas, utilize o comando `!pip install plotly & pip install cufflinks` em uma célula separada."
   ]
  },
  {
   "cell_type": "code",
   "execution_count": null,
   "metadata": {},
   "outputs": [],
   "source": [
    "%matplotlib inline\n",
    "from IPython.display import HTML\n",
    "\n",
    "import plotly.offline as py\n",
    "from plotly.offline import iplot\n",
    "import plotly.graph_objs as go\n",
    "\n",
    "import cufflinks as cf\n",
    "cf.go_offline()\n",
    "cf.set_config_file(offline=False, world_readable=True)"
   ]
  },
  {
   "cell_type": "markdown",
   "metadata": {},
   "source": [
    "Vamos continuar no exemplo do gráfico de linhas para comparar a evolução da média de streams de músicas solo e colaborações em 2020. "
   ]
  },
  {
   "cell_type": "code",
   "execution_count": null,
   "metadata": {},
   "outputs": [],
   "source": [
    "# Conjunto de dados que serão plotados no gráfico interativo\n",
    "# A variável data contém as duas linhas (Solo/Collab)\n",
    "data = [go.Scatter(x=df_solo.index, y=df_solo['streams'], marker_color='#1b9e77', name='Solo'),\n",
    "        go.Scatter(x=df_collab.index, y=df_collab['streams'], marker_color='#d95f02', name='Collaboration')]\n",
    "\n",
    "# Configura alguns parâmetros do plot, como título e nome dos eixos\n",
    "layout = go.Layout(title=\"Stream Comparison of Songs\", yaxis=dict(title='Average Streams'))\n",
    "\n",
    "fig = go.Figure(data=data, layout=layout)\n",
    "py.iplot(fig)"
   ]
  },
  {
   "cell_type": "markdown",
   "metadata": {},
   "source": [
    "Agora, vamos para um exemplo mais prático, que é a **matriz de correlação** entre as features acústicas dos `Hits`. \n",
    "\n",
    "Esta matriz foi introduzida no notebook anterior, quando discutimos o conceito de correlações."
   ]
  },
  {
   "cell_type": "code",
   "execution_count": null,
   "metadata": {},
   "outputs": [],
   "source": [
    "df_hits.corr()"
   ]
  },
  {
   "cell_type": "markdown",
   "metadata": {},
   "source": [
    "Quando existem muitas variáveis que desejamos analisar, uma matriz numérica pode não ser a melhor visualização. \n",
    "\n",
    "Por isso, podemos plotar um **_heatmap_** (mapa de calor) para visualizar tais correlações.\n",
    "\n",
    "Uma visualização interativa pode ser bem útil para isso, pois conseguimos visualizar, para cada célula, as variáveis correlacionadas e o valor da correlação."
   ]
  },
  {
   "cell_type": "code",
   "execution_count": null,
   "metadata": {},
   "outputs": [],
   "source": [
    "df_hits.corr().iplot(kind='heatmap', \n",
    "                     colorscale=\"RdBu\", \n",
    "                     title=\"Feature Correlation Matrix\")"
   ]
  },
  {
   "cell_type": "markdown",
   "metadata": {},
   "source": [
    "---\n",
    "\n",
    "## Referências e Links Externos\n",
    "\n",
    "- [Python Graph Gallery](https://www.python-graph-gallery.com/)\n",
    "- [Matplotlib - Documentação](https://matplotlib.org/stable/api/)\n",
    "- [Seaborn - Documentação](https://seaborn.pydata.org/)\n",
    "- [Plotly - documentação](https://plotly.com/python-api-reference/)"
   ]
  }
 ],
 "metadata": {
  "kernelspec": {
   "display_name": "Python 3",
   "language": "python",
   "name": "python3"
  },
  "language_info": {
   "codemirror_mode": {
    "name": "ipython",
    "version": 3
   },
   "file_extension": ".py",
   "mimetype": "text/x-python",
   "name": "python",
   "nbconvert_exporter": "python",
   "pygments_lexer": "ipython3",
   "version": "3.8.10"
  }
 },
 "nbformat": 4,
 "nbformat_minor": 4
}
